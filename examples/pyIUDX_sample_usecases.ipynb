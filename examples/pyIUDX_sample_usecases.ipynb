{
 "cells": [
  {
   "cell_type": "markdown",
   "metadata": {
    "colab_type": "text",
    "id": "gAAGqr97cS3J"
   },
   "source": [
    "# Python IUDX SDK - pyIUDX\n",
    "In this notebook we will use the pyIUDX SDK to interact with IUDX, the India Urban Data Exchange (https://www.iudx.org.in/). IUDX provides easy access to smart city resources, like air quality monitors, smart transportation systems, emergency reporting sensors (flooding), streetlighting metrics, crowd sourced data sources and so on! Along with access, IUDX also provides semantic information about the properties associated with these resources to foster a semantic and wholistic understanding of data. This facilitates richer apps to be developed and provides for intelligent and well integrated analytics.\n",
    "Visit https://pudx.catalogue.iudx.org.in to explore the dearth of resources available for your consumption.\n",
    "\n",
    "\n",
    "We encourage you to save a copy on your google drive and try these examples out.\n"
   ]
  },
  {
   "cell_type": "markdown",
   "metadata": {
    "colab_type": "text",
    "id": "S_9dbPLhAj9U"
   },
   "source": [
    "In the first part, we will query and obtain resources as per our requirements. This information is obtained by querying the catalogue server. The catalogue server provides all metadata associated with a sensor, including, sensor type, sensor location, sensor attributes, sensed quantities and their units etc.\n",
    "\n",
    "In the second part, we will obtain sensed data associated with a set of sensors and perform some simple analytics with it. This section will evoke the power of IUDX and illustrate how dynamic apps and analytics can be developed."
   ]
  },
  {
   "cell_type": "markdown",
   "metadata": {
    "colab_type": "text",
    "id": "mcaIliPwbZQ8"
   },
   "source": [
    "## Install pyIUDX SDK module"
   ]
  },
  {
   "cell_type": "code",
   "execution_count": 1,
   "metadata": {
    "colab": {},
    "colab_type": "code",
    "id": "0elzw3sj002X"
   },
   "outputs": [],
   "source": [
    "import numpy as np\n",
    "import matplotlib.pyplot as plt\n",
    "from datetime import datetime\n",
    "import matplotlib.dates\n",
    "import folium"
   ]
  },
  {
   "cell_type": "code",
   "execution_count": 2,
   "metadata": {
    "colab": {
     "base_uri": "https://localhost:8080/",
     "height": 269
    },
    "colab_type": "code",
    "id": "00KHKWfkcVsm",
    "outputId": "fabba30d-5b9d-46b9-e5f8-d25ef28ce590"
   },
   "outputs": [
    {
     "ename": "SyntaxError",
     "evalue": "invalid syntax (<ipython-input-2-cb91ed73b5b9>, line 2)",
     "output_type": "error",
     "traceback": [
      "\u001b[0;36m  File \u001b[0;32m\"<ipython-input-2-cb91ed73b5b9>\"\u001b[0;36m, line \u001b[0;32m2\u001b[0m\n\u001b[0;31m    pip install git+https://github.com/iudx/pyIUDX@v0.1.0\u001b[0m\n\u001b[0m        ^\u001b[0m\n\u001b[0;31mSyntaxError\u001b[0m\u001b[0;31m:\u001b[0m invalid syntax\n"
     ]
    }
   ],
   "source": [
    "# install the latest version of pyIUDX module from github\n",
    "pip install git+https://github.com/iudx/pyIUDX@v0.1.0"
   ]
  },
  {
   "cell_type": "markdown",
   "metadata": {
    "colab_type": "text",
    "id": "JKYqlxEUbiTQ"
   },
   "source": [
    "## Accessing Catalogue server\n",
    "All sensor properties are stored in the catalogue server. Querying the catalog entry for a given sensor provides us metadata and information about the sensor, particularly:\n",
    "* The sendor id (the unique id with which we query the sensor information and data)\n",
    "* Tags associated with the sensor\n",
    "* Information on the type of data provided by the sensor and their units"
   ]
  },
  {
   "cell_type": "markdown",
   "metadata": {
    "colab_type": "text",
    "id": "C6w6KW9KnS0d"
   },
   "source": [
    "### Import *cat* class from *pyIUDX.cat*\n",
    "The *cat* class provides the APIs to fetch data from the catalogue server."
   ]
  },
  {
   "cell_type": "code",
   "execution_count": null,
   "metadata": {
    "colab": {},
    "colab_type": "code",
    "id": "AjSF3GXycS3N"
   },
   "outputs": [],
   "source": [
    "from pyIUDX.cat import cat"
   ]
  },
  {
   "cell_type": "code",
   "execution_count": null,
   "metadata": {
    "colab": {},
    "colab_type": "code",
    "id": "45TPv6dFcS3T"
   },
   "outputs": [],
   "source": [
    "# Specify the catalogue server details.\n",
    "# initialize a catalogue class\n",
    "cat = cat.Catalogue(\"https://pudx.catalogue.iudx.org.in/catalogue/v1\")"
   ]
  },
  {
   "cell_type": "markdown",
   "metadata": {
    "colab_type": "text",
    "id": "sxlSpkLmcsz0"
   },
   "source": [
    "### Search for catalogue items (sensors)\n",
    "*getManyResourceItems* member of the catalogue class can be used to fetch a filtered version of catalogue items. The example below shows how to obtain items (sensors) whose tags attribute have the values \"aqi\" or \"aqm\". The metadata is returned as a list of dictionary item for each sensor."
   ]
  },
  {
   "cell_type": "code",
   "execution_count": null,
   "metadata": {
    "colab": {},
    "colab_type": "code",
    "id": "ohlsK6A5bPMp"
   },
   "outputs": [],
   "source": [
    "attributes = {\"tags\": [\"aqi\", \"aqm\", \"climo\"]}\n",
    "allAQMItems = cat.getManyResourceItems(attributes)"
   ]
  },
  {
   "cell_type": "code",
   "execution_count": null,
   "metadata": {
    "colab": {
     "base_uri": "https://localhost:8080/",
     "height": 55
    },
    "colab_type": "code",
    "id": "VVf9T4vlcS4H",
    "outputId": "017629a2-d4bc-4c3c-cbb8-04a35ea216eb"
   },
   "outputs": [],
   "source": [
    "print(allAQMItems[0:2])"
   ]
  },
  {
   "cell_type": "code",
   "execution_count": null,
   "metadata": {
    "colab": {},
    "colab_type": "code",
    "id": "XF_Ga4FHcS4N"
   },
   "outputs": [],
   "source": [
    "allAQMItemsCount = cat.getItemCount(attributes)"
   ]
  },
  {
   "cell_type": "code",
   "execution_count": null,
   "metadata": {
    "colab": {
     "base_uri": "https://localhost:8080/",
     "height": 35
    },
    "colab_type": "code",
    "id": "_dgz9A8ycS4T",
    "outputId": "db9ef353-37e1-490c-be21-2429bf780758"
   },
   "outputs": [],
   "source": [
    "print(allAQMItemsCount)"
   ]
  },
  {
   "cell_type": "markdown",
   "metadata": {
    "colab_type": "text",
    "id": "9b7XTpjWfypS"
   },
   "source": [
    "### Filter the catalogue response\n",
    "An unfiltered call to *getManyResourceItems* will return all information associated with each sensor. Using the filters option, we can filter the information returned.\n",
    "\n",
    "In the example below, by specifying the filters = [\"id\"], only the \"id\" of the sensor is returned."
   ]
  },
  {
   "cell_type": "code",
   "execution_count": null,
   "metadata": {
    "colab": {},
    "colab_type": "code",
    "id": "e8oYwsbHcS4c"
   },
   "outputs": [],
   "source": [
    "filters = [\"id\"]\n",
    "allAQMItemsByID = cat.getManyResourceItems(attributes, filters)"
   ]
  },
  {
   "cell_type": "code",
   "execution_count": null,
   "metadata": {
    "colab": {
     "base_uri": "https://localhost:8080/",
     "height": 55
    },
    "colab_type": "code",
    "id": "POUeqt1BlSUS",
    "outputId": "796337ba-5802-484c-947d-b0948e2ff2d3"
   },
   "outputs": [],
   "source": [
    "print(allAQMItemsByID[0:3])"
   ]
  },
  {
   "cell_type": "markdown",
   "metadata": {
    "colab_type": "text",
    "id": "8wKHHJVTgklb"
   },
   "source": [
    "### Filter items (sensors) by geo-location\n",
    "The function *getManyResourceItems* can also be used to filter items (sensors) based on their locations. In the example below, we specify the area of interest as a circle with center specified by latitude (\"lat\") and longitude (\"lon\") and radius in meters.\n",
    "In this case, we are requesting for sensors around a 3km radius.\n",
    "We also will specify that we are specifically interested in Air Quality Monitoring Stations present in that region.\n",
    "We only require the ID's for now, which we can obtain by passing a filters option"
   ]
  },
  {
   "cell_type": "code",
   "execution_count": null,
   "metadata": {
    "colab": {},
    "colab_type": "code",
    "id": "ImETKLDHSj7e"
   },
   "outputs": [],
   "source": [
    "geo1 = {\"circle\": {\"lat\": 18.539107, \"lon\": 73.853987, \"radius\": 3000}}\n",
    "attributes = {\"tags\": [\"aqi\", \"aqm\", \"climo\"]}\n",
    "filters = [\"id\"]\n"
   ]
  },
  {
   "cell_type": "markdown",
   "metadata": {
    "colab_type": "text",
    "id": "4cfK_aCohwoA"
   },
   "source": [
    "The below call returns all sensors with tags \"aqi\" or \"aqm\" and within the geographical area specified. Further, as specified by the filters argument, only the \"id\" information is returned for each of the sensors.\n"
   ]
  },
  {
   "cell_type": "code",
   "execution_count": null,
   "metadata": {
    "colab": {},
    "colab_type": "code",
    "id": "u7h7KW7nSl0l"
   },
   "outputs": [],
   "source": [
    "allAQMItemsByID = cat.getManyResourceItems(attributes, filters, geo=geo1)"
   ]
  },
  {
   "cell_type": "code",
   "execution_count": null,
   "metadata": {
    "colab": {
     "base_uri": "https://localhost:8080/",
     "height": 73
    },
    "colab_type": "code",
    "id": "IzsC9_V6cS4h",
    "outputId": "9327557b-7f7e-4f0f-baa0-ea2d779493f4"
   },
   "outputs": [],
   "source": [
    "print(allAQMItemsByID)\n",
    "print(\"Number of items = \", len(allAQMItemsByID))"
   ]
  },
  {
   "cell_type": "markdown",
   "metadata": {
    "colab_type": "text",
    "id": "PJoUpvaLh5nl"
   },
   "source": [
    "## Fetch data from sensors\n",
    "In this section we will fetch sensor data from the resource server and show off a little bit of the magic of IUDX."
   ]
  },
  {
   "cell_type": "markdown",
   "metadata": {
    "colab_type": "text",
    "id": "Kdmr4_yBnAlx"
   },
   "source": [
    "### Import *item* class from *pyIUDX.rs*\n",
    "The *item* class provides the APIs to access relevant sensor data.\n",
    "This is a high level abstraction module which encapsulates multiple functionalities of IUDX such as fetching meta information from data models and live data from  resource servers"
   ]
  },
  {
   "cell_type": "code",
   "execution_count": null,
   "metadata": {
    "colab": {},
    "colab_type": "code",
    "id": "nx8JGkMymxyj"
   },
   "outputs": [],
   "source": [
    "# Import the item class from pyIUDX.rs\n",
    "from pyIUDX.rs import item\n"
   ]
  },
  {
   "cell_type": "markdown",
   "metadata": {
    "colab_type": "text",
    "id": "FumTVfc--V8u"
   },
   "source": [
    "### Plot sensor locations"
   ]
  },
  {
   "cell_type": "markdown",
   "metadata": {
    "colab_type": "text",
    "id": "JaI6weqN9mP9"
   },
   "source": [
    "We can pass the previously obtained list of filtered Air Quality Monitoring stations to the Items class. This will load a list of resourceItem objects and provide neat access to their data."
   ]
  },
  {
   "cell_type": "code",
   "execution_count": null,
   "metadata": {
    "colab": {},
    "colab_type": "code",
    "id": "daliTnbg7NQF"
   },
   "outputs": [],
   "source": [
    "geo1 = {\"circle\": {\"lat\": 18.539107, \"lon\": 73.853987, \"radius\": 3000}}\n",
    "attributes = {\"tags\": [\"aqm\"]}\n",
    "filters = [\"id\"]\n",
    "allAQMItemsByID = cat.getManyResourceItems(attributes, filters, geo=geo1)"
   ]
  },
  {
   "cell_type": "code",
   "execution_count": null,
   "metadata": {
    "colab": {
     "base_uri": "https://localhost:8080/",
     "height": 1000
    },
    "colab_type": "code",
    "id": "HgZvgDIt8I3e",
    "outputId": "ae1c5583-1589-4ee6-a54f-89b7037298c7"
   },
   "outputs": [],
   "source": [
    "\n",
    "\n",
    "m = folium.Map(location=[18.5204,73.8567],zoom_start=12)\n",
    "aqms = item.Items(\"https://pudx.catalogue.iudx.org.in/catalogue/v1\", \"https://pudx.resourceserver.iudx.org.in/resource-server/pscdcl/v1\", allAQMItemsByID)\n",
    "print(aqms[0].geoProperties)\n",
    "for sensor in aqms:\n",
    "  sensor_id = sensor.id  \n",
    "  print(\"Sensor location = \", sensor.location.coordinates)\n",
    "  folium.Marker([sensor.location.coordinates[1], sensor.location.coordinates[0] ], popup=sensor_id).add_to(m)    \n",
    "m"
   ]
  },
  {
   "cell_type": "markdown",
   "metadata": {
    "colab_type": "text",
    "id": "ss-wVF_OoXSd"
   },
   "source": [
    "### Fetch Quantitative Properties \n",
    "We will iterate across the list of sensors and obtain *PM10_MAX* values and its meta-information. Further, we will also obtain data for a specified duration.\n",
    "You can find the data model for an AQM sensor here \n",
    "https://github.com/iudx/iudx-ld/blob/master/data_models/environment/airQuality/env_aqm_climoPune_0.json"
   ]
  },
  {
   "cell_type": "markdown",
   "metadata": {
    "colab_type": "text",
    "id": "puNH6LKyEg6l"
   },
   "source": [
    "Let's use one of the items form the list of sensors we just created"
   ]
  },
  {
   "cell_type": "code",
   "execution_count": null,
   "metadata": {
    "colab": {
     "base_uri": "https://localhost:8080/",
     "height": 35
    },
    "colab_type": "code",
    "id": "txGDMvwiEt2J",
    "outputId": "574d7a69-83f4-484d-9b9f-f6089f9c02c1"
   },
   "outputs": [],
   "source": [
    "print(aqms[0].id)"
   ]
  },
  {
   "cell_type": "markdown",
   "metadata": {
    "colab_type": "text",
    "id": "yiFMxp9Z_QIk"
   },
   "source": [
    "We can find out all the QuantitativeProperties (measured properties) of an aqm item by calling the Object.quantitativeProperties property.\n",
    "Since our previous filter filtered out all AQM sensors, we can assume that the quantitative properties for sensor aqms[0] is the same for the rest."
   ]
  },
  {
   "cell_type": "code",
   "execution_count": null,
   "metadata": {
    "colab": {
     "base_uri": "https://localhost:8080/",
     "height": 55
    },
    "colab_type": "code",
    "id": "EYhBOkTe_aCd",
    "outputId": "1cb2215a-f25c-43e4-eab7-d4aeb081252b"
   },
   "outputs": [],
   "source": [
    "print(aqms[0].quantitativeProperties)"
   ]
  },
  {
   "cell_type": "markdown",
   "metadata": {
    "colab_type": "text",
    "id": "aEFArN2yDJFl"
   },
   "source": [
    "A quantitativeProperty also has further meta information related to that property, such as a detailed description, units, etc.\n",
    "We can get a list of such attributes for a quantitativeProperty, and access them directly.\n",
    "For e.g, for PM10_MAX.\n"
   ]
  },
  {
   "cell_type": "code",
   "execution_count": null,
   "metadata": {
    "colab": {
     "base_uri": "https://localhost:8080/",
     "height": 89
    },
    "colab_type": "code",
    "id": "M0zQOJtqDTFa",
    "outputId": "b9ff72cd-563c-4239-a19b-b6724a60bb05"
   },
   "outputs": [],
   "source": [
    "print(aqms[0].CO2_MAX.attributes)\n",
    "print(\"Name of the property is \" + aqms[0].CO2_MAX.symbol)\n",
    "print(\"Units of the property are \" + aqms[0].CO2_MAX.symbol)\n",
    "print(\"The property tells us the \" + aqms[0].CO2_MAX.describes)"
   ]
  },
  {
   "cell_type": "markdown",
   "metadata": {
    "colab_type": "text",
    "id": "vDaXH_FACbQp"
   },
   "source": [
    "We need to call the object's latest() method to get the latest data .\n",
    "Calling aqms.latest() will update the latest values of all these properties and for **all the previously filtered sensors**."
   ]
  },
  {
   "cell_type": "code",
   "execution_count": null,
   "metadata": {
    "colab": {
     "base_uri": "https://localhost:8080/",
     "height": 55
    },
    "colab_type": "code",
    "id": "KkvIFyyCCODJ",
    "outputId": "cdf37627-d1f1-4732-85ab-c1dbd6d862e8"
   },
   "outputs": [],
   "source": [
    "aqms.latest()"
   ]
  },
  {
   "cell_type": "markdown",
   "metadata": {
    "colab_type": "text",
    "id": "8txb32gDB0dd"
   },
   "source": [
    "We can now call aqms[0].\"quantitativeProperty\".value to obtain a numpy array with the first column as datetime and second column as that property's value.\n",
    "A quantitativeProperty always has a .value attribute.\n"
   ]
  },
  {
   "cell_type": "code",
   "execution_count": null,
   "metadata": {
    "colab": {
     "base_uri": "https://localhost:8080/",
     "height": 53
    },
    "colab_type": "code",
    "id": "L_n6brl7CyTs",
    "outputId": "185bea28-0877-463e-a001-8eaa924ddd37"
   },
   "outputs": [],
   "source": [
    "aqms[0].CO2_MAX.value"
   ]
  },
  {
   "cell_type": "markdown",
   "metadata": {
    "colab_type": "text",
    "id": "7AdboZMpFc0E"
   },
   "source": [
    "Calling latest() once is enough. We can access other quantitativeProperties as well."
   ]
  },
  {
   "cell_type": "code",
   "execution_count": null,
   "metadata": {
    "colab": {
     "base_uri": "https://localhost:8080/",
     "height": 53
    },
    "colab_type": "code",
    "id": "R-cFdJl6HfAR",
    "outputId": "0e94d985-30d7-4620-ee85-801c211abb07"
   },
   "outputs": [],
   "source": [
    "aqms[0].SO2_MAX.value"
   ]
  },
  {
   "cell_type": "markdown",
   "metadata": {
    "colab_type": "text",
    "id": "FSOJlcAiFtax"
   },
   "source": [
    "Supposing there is a need to find the trend of a particular property over a period of time. We can use Items object's during() functionality to show a time series view of that quantitativeProperty. We need to specify the start and end time in utc format. Let's get the data during 25th October 2019 and 2nd November 2019."
   ]
  },
  {
   "cell_type": "code",
   "execution_count": null,
   "metadata": {
    "colab": {
     "base_uri": "https://localhost:8080/",
     "height": 55
    },
    "colab_type": "code",
    "id": "8pFx0KOXFrDT",
    "outputId": "bcd88c58-69aa-4c9a-a5ca-b50e62644f40"
   },
   "outputs": [],
   "source": [
    "aqms.during(\"2019-10-26T00:00:00.000+05:30\", \"2019-11-02T00:00:00.000+05:30\")\n",
    "\n"
   ]
  },
  {
   "cell_type": "markdown",
   "metadata": {
    "colab_type": "text",
    "id": "iRE1RgZ5GlKL"
   },
   "source": [
    "Now we can repeat what we did earlier and find the value of the quantitativeProperty **during** that period of time for **sensor 1**"
   ]
  },
  {
   "cell_type": "code",
   "execution_count": null,
   "metadata": {
    "colab": {
     "base_uri": "https://localhost:8080/",
     "height": 197
    },
    "colab_type": "code",
    "id": "OUSm4e-TGuAO",
    "outputId": "2bc50357-30e5-4cc2-f0e3-c8b62272d807"
   },
   "outputs": [],
   "source": [
    "print(aqms[1].PM10_MAX.value[0:10,:])"
   ]
  },
  {
   "cell_type": "markdown",
   "metadata": {
    "colab_type": "text",
    "id": "afHaPPLNIbqs"
   },
   "source": [
    "We can utilize all of the other meta information that's part of the object and plot it right away!"
   ]
  },
  {
   "cell_type": "code",
   "execution_count": null,
   "metadata": {
    "colab": {
     "base_uri": "https://localhost:8080/",
     "height": 832
    },
    "colab_type": "code",
    "id": "cne1AirgIFTv",
    "outputId": "b70d670d-566f-4c41-ad66-57487873565a"
   },
   "outputs": [],
   "source": [
    "import matplotlib.pyplot as plt\n",
    "fig = plt.figure(figsize=(15,10))\n",
    "\n",
    "fig.suptitle(aqms[1].PM10_MAX.name + \"\\n\" + aqms[1].PM10_MAX.describes, fontsize=20)\n",
    "plt.plot(aqms[1].PM10_MAX.value[:,0], aqms[1].PM10_MAX.value[:,1])\n",
    "plt.xlabel(aqms[1].timeProperty, fontsize=18)\n",
    "plt.ylabel(aqms[1].PM10_MAX.name + \" (\" + aqms[1].PM10_MAX.symbol + \")\", fontsize=16)"
   ]
  },
  {
   "cell_type": "markdown",
   "metadata": {
    "colab_type": "text",
    "id": "sj1fcj9j74Fx"
   },
   "source": [
    "### IUDX Magic!\n",
    "We can repeat the above for all the selected sensors!\n",
    "Dynamically populating the x and y axis, showing the units of measurement and many more!"
   ]
  },
  {
   "cell_type": "code",
   "execution_count": null,
   "metadata": {
    "colab": {
     "base_uri": "https://localhost:8080/",
     "height": 686
    },
    "colab_type": "code",
    "id": "E_rJqeCxIzTn",
    "outputId": "46dcc1ac-58d2-421a-e2d7-ed0b3a61193d"
   },
   "outputs": [],
   "source": [
    "import matplotlib.pyplot as plt\n",
    "fig = plt.figure(figsize=(15,10))\n",
    "fig.suptitle(aqms[0].PM10_MAX.name + \"\\n\" + aqms[0].PM10_MAX.describes, fontsize=20)\n",
    "plt.xlabel(aqms[0].timeProperty, fontsize=18)\n",
    "plt.ylabel(aqms[0].PM10_MAX.name + \" (\" + aqms[0].PM10_MAX.symbol + \")\", fontsize=16)\n",
    "\n",
    "for sensor in aqms:\n",
    "  plt.plot(sensor.PM10_MAX.value[:,0], sensor.PM10_MAX.value[:,1], label=sensor.id.split(\"/\")[-1])\n",
    "plt.legend()\n",
    "plt.show()"
   ]
  },
  {
   "cell_type": "markdown",
   "metadata": {
    "colab_type": "text",
    "id": "OxKcCpKnLnOi"
   },
   "source": [
    "Notice how the pollution significantly peaks around deepavali (28th-30th october)!"
   ]
  },
  {
   "cell_type": "markdown",
   "metadata": {
    "colab_type": "text",
    "id": "z2kOXIp33byJ"
   },
   "source": [
    "### Geo-spatial analytics with IUDX\n",
    "Let's do something a bit more advance. \n",
    "Let's plot the geo-spatial distrubution of PM10 across the entire city of Pune."
   ]
  },
  {
   "cell_type": "markdown",
   "metadata": {
    "colab_type": "text",
    "id": "VbAHp8zj8lqF"
   },
   "source": [
    "Install a few dependencies and import a few libraries."
   ]
  },
  {
   "cell_type": "code",
   "execution_count": null,
   "metadata": {
    "colab": {
     "base_uri": "https://localhost:8080/",
     "height": 251
    },
    "colab_type": "code",
    "id": "tpEIp-1vK0SG",
    "outputId": "c18ef76d-e6aa-43c2-add1-840221f73024"
   },
   "outputs": [],
   "source": [
    "!pip install geojsoncontour\n"
   ]
  },
  {
   "cell_type": "code",
   "execution_count": null,
   "metadata": {
    "colab": {},
    "colab_type": "code",
    "id": "sQ-p_X4FkRGV"
   },
   "outputs": [],
   "source": [
    "from folium import plugins\n",
    "import geojsoncontour\n",
    "import scipy.ndimage\n",
    "import scipy as sp\n",
    "from scipy.interpolate import griddata\n",
    "\n"
   ]
  },
  {
   "cell_type": "markdown",
   "metadata": {
    "colab_type": "text",
    "id": "zps7WYqr2nN_"
   },
   "source": [
    "Let's extend our analysis to a large area, about 60 kms in diameter. This covers most Pune city.\n",
    "Again, we use the catalogue to filter out sensors within a wide region and pass it to the Items class."
   ]
  },
  {
   "cell_type": "code",
   "execution_count": null,
   "metadata": {
    "colab": {
     "base_uri": "https://localhost:8080/",
     "height": 55
    },
    "colab_type": "code",
    "id": "0eraU96O2rI-",
    "outputId": "e9234318-c737-4be3-902b-24b09f731473"
   },
   "outputs": [],
   "source": [
    "from pyIUDX.rs import item\n",
    "geo1 = {\"circle\": {\"lat\": 18.539107, \"lon\": 73.853987, \"radius\": 30000}}\n",
    "attributes = {\"tags\": [\"aqm\"]}\n",
    "filters = [\"id\"]\n",
    "allAQMItemsByID = cat.getManyResourceItems(attributes, filters, geo=geo1)\n",
    "print(allAQMItemsByID)\n",
    "aqms = item.Items(\"https://pudx.catalogue.iudx.org.in/catalogue/v1\", allAQMItemsByID)\n",
    "\n"
   ]
  },
  {
   "cell_type": "markdown",
   "metadata": {
    "colab_type": "text",
    "id": "jrlo7QCx3mM3"
   },
   "source": [
    "Let's now get the latest data from these sensors.\n",
    "This will take about 30 seconds on the cloud"
   ]
  },
  {
   "cell_type": "code",
   "execution_count": null,
   "metadata": {
    "colab": {
     "base_uri": "https://localhost:8080/",
     "height": 55
    },
    "colab_type": "code",
    "id": "f3pNIM9I37mB",
    "outputId": "a6b2b020-c625-4ff2-e135-5c73f0714560"
   },
   "outputs": [],
   "source": [
    "aqms.latest()"
   ]
  },
  {
   "cell_type": "markdown",
   "metadata": {
    "colab_type": "text",
    "id": "T018XourDXHi"
   },
   "source": [
    "Make numpy arrays of all the items locations and values."
   ]
  },
  {
   "cell_type": "code",
   "execution_count": null,
   "metadata": {
    "colab": {},
    "colab_type": "code",
    "id": "JN8LOyFsDQuQ"
   },
   "outputs": [],
   "source": [
    "# Get the latest PM_10 values for all aqms\n",
    "zs = []\n",
    "x_orig = []\n",
    "y_orig = []\n",
    "for aqm in aqms:\n",
    "  val = aqm.PM10_MAX.value[:, 1].astype(\"float\")\n",
    "  if val.size > 0:\n",
    "    zs.append(val[0])\n",
    "    x_orig.append(aqm.location.coordinates[0])\n",
    "    y_orig.append(aqm.location.coordinates[1])\n",
    "\n",
    "x_orig = np.array(x_orig)\n",
    "y_orig = np.array(y_orig)\n",
    "zs = np.array(zs)"
   ]
  },
  {
   "cell_type": "markdown",
   "metadata": {
    "colab_type": "text",
    "id": "-rJ5wRaTDfYp"
   },
   "source": [
    "Initialize the map and show all sensor locations"
   ]
  },
  {
   "cell_type": "code",
   "execution_count": null,
   "metadata": {
    "colab": {
     "base_uri": "https://localhost:8080/",
     "height": 889
    },
    "colab_type": "code",
    "id": "6GaHjpdMDTJY",
    "outputId": "e4bbbc45-864e-4c41-af93-52abb2c760c2"
   },
   "outputs": [],
   "source": [
    "# Initialize the map\n",
    "geomap = folium.Map([y_orig.mean(), x_orig.mean()], zoom_start=13, tiles=\"cartodbpositron\")\n",
    "\n",
    "for sensor in aqms:\n",
    "  sensor_id = sensor.id  \n",
    "  folium.Marker([sensor.location.coordinates[1], sensor.location.coordinates[0] ], popup=sensor_id).add_to(geomap)  \n",
    "\n",
    "geomap  "
   ]
  },
  {
   "cell_type": "markdown",
   "metadata": {
    "colab_type": "text",
    "id": "_zpTXRDU9ERc"
   },
   "source": [
    "We are now ready to perform the analytic. \n",
    "This is a rather simple example where we perform cubic geo-spatial interplation of PM10_MAX concentrations across Pune. We will see where the major pollutant hotspots are located"
   ]
  },
  {
   "cell_type": "code",
   "execution_count": null,
   "metadata": {
    "colab": {
     "base_uri": "https://localhost:8080/",
     "height": 1000
    },
    "colab_type": "code",
    "id": "4GR-hT60k8gm",
    "outputId": "97b367a2-23f0-4cdf-e2f9-bf82188f075b"
   },
   "outputs": [],
   "source": [
    "# Make lat and lon linspace\n",
    "y_arr = np.linspace(np.min(y_orig), np.max(y_orig), 100)\n",
    "x_arr = np.linspace(np.min(x_orig), np.max(x_orig), 100)\n",
    "# Make mesh grid\n",
    "x_mesh, y_mesh = np.meshgrid(x_arr, y_arr)\n",
    "\n",
    "\n",
    "# Perform cubic interpolation\n",
    "z_mesh = griddata((x_orig, y_orig), zs, (x_mesh, y_mesh), method='cubic')\n",
    "# Number of levels of colors\n",
    "levels = 20\n",
    "# Make contours of the fird value obtained in z_mesh\n",
    "contourf = plt.contourf(x_mesh, y_mesh, z_mesh, levels, alpha=0.5, cmap=\"bwr\", linestyles='None', vmin=0, vmax=100)\n",
    "\n",
    "# Convert matplotlib contourf to geojson\n",
    "geojson = geojsoncontour.contourf_to_geojson(\n",
    "    contourf=contourf,\n",
    "    min_angle_deg=3.0,\n",
    "    ndigits=5,\n",
    "    stroke_width=1,\n",
    "    fill_opacity=0.5)\n",
    "\n",
    "# Plot the contour plot on folium\n",
    "folium.GeoJson(\n",
    "    geojson,\n",
    "    style_function=lambda x: {\n",
    "        'color':     x['properties']['stroke'],\n",
    "        'weight':    x['properties']['stroke-width'],\n",
    "        'fillColor': x['properties']['fill'],\n",
    "        'opacity':   0.6,\n",
    "    }).add_to(geomap)\n",
    "\n",
    "# Show map\n",
    "geomap\n"
   ]
  },
  {
   "cell_type": "markdown",
   "metadata": {
    "colab_type": "text",
    "id": "D-vlpbuW5fq8"
   },
   "source": [
    "## Downloading larger datasets\n",
    "Because of the large size of the data availabe, we have restricted PUDX \"during\" queries to only work when the time is less than one day. If data for a longer period is required, you will be needing the download API.\n",
    "We will however need the resourceServerGroup id instead of the id for this. To find this, you can go to pudx.catalogue.iudx.org.in and search for aqm with tags. Once the item is shown in the list view, you can click \"details\" and obtain the group id.\n",
    "The resourceServerGroup id for AQM is \"urn:iudx-catalogue-pune:pudx-resource-server/aqm-bosch-climo\"\n",
    "\n",
    "This will now give us a Google Drive link which we can use to download files based on weeks of the year. "
   ]
  },
  {
   "cell_type": "code",
   "execution_count": null,
   "metadata": {
    "colab": {
     "base_uri": "https://localhost:8080/",
     "height": 53
    },
    "colab_type": "code",
    "id": "0_ESsi1n6gse",
    "outputId": "eebf3846-cda6-48c7-8e8f-a05ec8701c80"
   },
   "outputs": [],
   "source": [
    "from pyIUDX.rs import rs\n",
    "\n",
    "rs = rs.ResourceServer(\"https://pudx.resourceserver.iudx.org.in/resource-server/pscdcl/v1\")\n",
    "\n",
    "groupId = \"urn:iudx-catalogue-pune:pudx-resource-server/aqm-bosch-climo\"\n",
    "\n",
    "data = rs.downloadData(groupId)\n",
    "data"
   ]
  },
  {
   "cell_type": "markdown",
   "metadata": {
    "colab_type": "text",
    "id": "_DT3aMIy6n0-"
   },
   "source": [
    "On opening that download_URL, you will find different files corresponding to different weeks of the year for AQM. You can then use python pyDrive module to download that file."
   ]
  },
  {
   "cell_type": "code",
   "execution_count": null,
   "metadata": {
    "colab": {},
    "colab_type": "code",
    "id": "d3v-4llz5pdo"
   },
   "outputs": [],
   "source": [
    "from pydrive.auth import GoogleAuth\n",
    "from pydrive.drive import GoogleDrive\n",
    "from pydrive.files import GoogleDriveFile\n",
    "from google.colab import auth\n",
    "from oauth2client.client import GoogleCredentials"
   ]
  },
  {
   "cell_type": "markdown",
   "metadata": {
    "colab_type": "text",
    "id": "4-WLtsnV6xLt"
   },
   "source": [
    "Authenticate with Google Drive. This will ask you to follow a link and allow access. You need to have a gmail account. Once you have accessed the link "
   ]
  },
  {
   "cell_type": "code",
   "execution_count": null,
   "metadata": {
    "colab": {},
    "colab_type": "code",
    "id": "oiWhBEc661Mr"
   },
   "outputs": [],
   "source": [
    "auth.authenticate_user()\n",
    "gauth = GoogleAuth()\n",
    "gauth.credentials = GoogleCredentials.get_application_default()\n",
    "drive = GoogleDrive(gauth)\n",
    "files = GoogleDriveFile(auth=gauth)"
   ]
  },
  {
   "cell_type": "code",
   "execution_count": null,
   "metadata": {
    "colab": {
     "base_uri": "https://localhost:8080/",
     "height": 989
    },
    "colab_type": "code",
    "id": "PQq2mQA_65Af",
    "outputId": "0f3e3417-9865-4580-9f9c-9b631f175581"
   },
   "outputs": [],
   "source": [
    "folder_id = data[\"download_URL\"].split(\"=\")[-1]\n",
    "file_list = drive.ListFile({'q': \"'%s' in parents and trashed=false\" % folder_id}).GetList()\n",
    "\n",
    "for f in file_list:\n",
    "  print(f[\"title\"])"
   ]
  },
  {
   "cell_type": "markdown",
   "metadata": {
    "colab_type": "text",
    "id": "zbt1J-dB68Qd"
   },
   "source": [
    "Let's get data for one such week."
   ]
  },
  {
   "cell_type": "code",
   "execution_count": null,
   "metadata": {
    "colab": {},
    "colab_type": "code",
    "id": "XrKYP_mT6-48"
   },
   "outputs": [],
   "source": [
    "fl = file_list[0]\n",
    "fl.GetContentFile(fl[\"title\"])"
   ]
  },
  {
   "cell_type": "code",
   "execution_count": null,
   "metadata": {
    "colab": {
     "base_uri": "https://localhost:8080/",
     "height": 35
    },
    "colab_type": "code",
    "id": "acSgtnUd7FV-",
    "outputId": "dec4e6cf-30a2-4305-9e4d-993969da8fe4"
   },
   "outputs": [],
   "source": [
    "!ls"
   ]
  },
  {
   "cell_type": "code",
   "execution_count": null,
   "metadata": {
    "colab": {
     "base_uri": "https://localhost:8080/",
     "height": 611
    },
    "colab_type": "code",
    "id": "HswfqME17GiT",
    "outputId": "059f01b1-46f9-44d9-cc2e-45accf5fe2dc"
   },
   "outputs": [],
   "source": [
    "import json \n",
    "\n",
    "with open(fl[\"title\"], \"r\") as f:\n",
    "  df_json = json.load(f)\n",
    "\"\"\" The first data point in the downloaded data \"\"\"\n",
    "df_json[0:1]"
   ]
  },
  {
   "cell_type": "markdown",
   "metadata": {
    "colab_type": "text",
    "id": "xLQHLl-V8Wd4"
   },
   "source": [
    "Doing you analysis this way might be simpler that using the Item() module as was shown previously, but it hides away some of the meta information that you would need, for example location. This can still be overcome by querying for the location of the \"NAME\" field in the data packet as shown below.\n",
    "Refer to - getOneresourceItem in https://pyiudx.readthedocs.io/en/latest/pyIUDX.cat.html"
   ]
  },
  {
   "cell_type": "code",
   "execution_count": null,
   "metadata": {
    "colab": {
     "base_uri": "https://localhost:8080/",
     "height": 1000
    },
    "colab_type": "code",
    "id": "8X4GkZjQ84pQ",
    "outputId": "57a8bd1e-7c22-4158-b45b-17e1b3448d04"
   },
   "outputs": [],
   "source": [
    "attributes = {\"NAME\": [df_json[0][\"NAME\"]]}\n",
    "item = cat.getManyResourceItems(attributes)[0]\n",
    "item"
   ]
  },
  {
   "cell_type": "markdown",
   "metadata": {
    "colab_type": "text",
    "id": "-cIYi-9O-juu"
   },
   "source": [
    "Obtaining location for this is now simple -"
   ]
  },
  {
   "cell_type": "code",
   "execution_count": null,
   "metadata": {
    "colab": {
     "base_uri": "https://localhost:8080/",
     "height": 35
    },
    "colab_type": "code",
    "id": "4H-2i6pJ-mmD",
    "outputId": "9efe5e4a-d9e6-4056-f6a5-6240ad81515f"
   },
   "outputs": [],
   "source": [
    "item[\"location\"][\"value\"][\"geometry\"][\"coordinates\"]"
   ]
  },
  {
   "cell_type": "markdown",
   "metadata": {
    "colab_type": "text",
    "id": "ZivpvZKO-2Xe"
   },
   "source": [
    "Bear in mind, the location is a geo-json and the latitude and longitude are interchanged. This is because usually coordinates are mentioned as [x, y] where x axis is usually the longitude and lattitude. However, most of the mapping utitilities consider [y, x] or [latitude, longitude]. You will have to interchange the latitude and longitude in this case."
   ]
  },
  {
   "cell_type": "markdown",
   "metadata": {
    "colab_type": "text",
    "id": "KTw-ABI3_4bx"
   },
   "source": [
    "### Grouping in pandas\n",
    "The downloaded data can be grouped by \"NAME\" field and help you in generating a dataset. You will need Pandas for this."
   ]
  },
  {
   "cell_type": "code",
   "execution_count": null,
   "metadata": {
    "colab": {
     "base_uri": "https://localhost:8080/",
     "height": 366
    },
    "colab_type": "code",
    "id": "ZKvvmC6IADC8",
    "outputId": "16415221-d385-4022-caf5-da9ec0c3d862"
   },
   "outputs": [],
   "source": [
    "import pandas as pd\n",
    "\n",
    "df_aqm = pd.DataFrame(df_json)\n",
    "df_aqm.head(3)"
   ]
  },
  {
   "cell_type": "markdown",
   "metadata": {
    "colab_type": "text",
    "id": "zpTfHpL5AOej"
   },
   "source": [
    "Now we can group by \"NAME\" field -"
   ]
  },
  {
   "cell_type": "code",
   "execution_count": null,
   "metadata": {
    "colab": {
     "base_uri": "https://localhost:8080/",
     "height": 401
    },
    "colab_type": "code",
    "id": "0ri2NJ8yAQoN",
    "outputId": "0d8b6993-7c6c-4c55-c322-ffe80eddfde6"
   },
   "outputs": [],
   "source": [
    "df_grouped = df_aqm.groupby(\"NAME\")\n",
    "print(\"Getting data frame for \" + df_json[0][\"NAME\"])\n",
    "some_aqm_sensor = df_grouped.get_group(df_json[0][\"NAME\"])\n",
    "some_aqm_sensor.head(3)\n"
   ]
  },
  {
   "cell_type": "markdown",
   "metadata": {
    "colab_type": "text",
    "id": "vKzLurDO94RL"
   },
   "source": [
    "# Conclusion\n",
    "\n",
    "To recap, we've shown you a simple flow of obtaining the different sensors available in a region using the Catalogue module. We've taken this information and passed it to the Items module which provides a complex abstraction over the selected items and makes data access simple. We've then gone on to plot the different quantitative properties for an air quality monitor across the city and used IUDX's magic to dynamically give us the units, locations, and information about a pollutant, PM 10. Lastly we showed how IUDX makes complex analytics simple by helping discover and handle data. "
   ]
  },
  {
   "cell_type": "markdown",
   "metadata": {
    "colab_type": "text",
    "id": "_n04Vld4-ocy"
   },
   "source": [
    "We encourage you to download this notebook and tinker around. Feedback is welcome. Visit https://github.com/iudx/pyIUDX for more advance usage and report errors/enhancement requests."
   ]
  }
 ],
 "metadata": {
  "colab": {
   "collapsed_sections": [],
   "name": "pyIUDX_sample_usecases.ipynb",
   "provenance": [],
   "toc_visible": true
  },
  "kernelspec": {
   "display_name": "Python 3",
   "language": "python",
   "name": "python3"
  },
  "language_info": {
   "codemirror_mode": {
    "name": "ipython",
    "version": 3
   },
   "file_extension": ".py",
   "mimetype": "text/x-python",
   "name": "python",
   "nbconvert_exporter": "python",
   "pygments_lexer": "ipython3",
   "version": "3.8.1"
  }
 },
 "nbformat": 4,
 "nbformat_minor": 1
}
