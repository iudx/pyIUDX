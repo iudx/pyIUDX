{
 "cells": [
  {
   "cell_type": "code",
   "execution_count": 17,
   "metadata": {},
   "outputs": [],
   "source": [
    "import numpy as np\n",
    "import matplotlib.pyplot as plt\n",
    "from datetime import datetime\n",
    "import matplotlib.dates\n",
    "import folium\n",
    "from folium import plugins\n",
    "import json\n",
    "import pytz"
   ]
  },
  {
   "cell_type": "code",
   "execution_count": 2,
   "metadata": {},
   "outputs": [],
   "source": [
    "from pyIUDX.cat import cat\n",
    "from pyIUDX.rs import rs\n",
    "import pandas as pd\n",
    "# Specify the catalogue server details.\n",
    "# initialize a catalogue class\n",
    "cat = cat.Catalogue(\"https://varanasi.iudx.org.in/catalogue/v1\")\n",
    "rs = rs.ResourceServer(\"https://rs.varanasi.iudx.org.in/resource-server/vscl/v1\")"
   ]
  },
  {
   "cell_type": "code",
   "execution_count": 3,
   "metadata": {},
   "outputs": [],
   "source": [
    "\"\"\" Get list of vehicles \"\"\"\n",
    "id = \"rbccps.org/aa9d66a000d94a78895de8d4c0b3a67f3450e531/rs.varanasi.iudx.org.in/varanasi-swm-vehicles/varanasi-swm-vehicles-list\"\n",
    "startTime = \"2020-02-27T00:00:00.000+05:30\"\n",
    "endTime = \"2020-03-05T00:00:00.000+05:30\"\n",
    "\n",
    "\"\"\" The field data obtained here is a dictionary \"\"\"\n",
    "field_data = rs.getDataDuring(id, startTime, endTime)\n"
   ]
  },
  {
   "cell_type": "code",
   "execution_count": 4,
   "metadata": {},
   "outputs": [
    {
     "name": "stdout",
     "output_type": "stream",
     "text": [
      "[{\"LoggedTime\": \"2020-03-02T06:24:04+0000\", \"vehicleNo\": \"UP65AG0328\", \"vehicleType\": \"Pashu Bandi\", \"wardNo\": 60}, {\"LoggedTime\": \"2020-03-02T06:24:04+0000\", \"vehicleNo\": \"UP65BT3677\", \"vehicleType\": \"Auto Tipper\", \"wardNo\": 4}, {\"LoggedTime\": \"2020-03-02T06:24:04+0000\", \"vehicleNo\": \"UP65AT9803\", \"vehicleType\": \"Auto Tipper\", \"wardNo\": 4}, {\"LoggedTime\": \"2020-03-02T06:24:04+0000\", \"vehicleNo\": \"UP65BT3634\", \"vehicleType\": \"Auto Tipper\", \"wardNo\": 4}, {\"LoggedTime\": \"2020-03-02T06:24:04+0000\", \"vehicleNo\": \"UP65ET4050\", \"vehicleType\": \"Auto Tipper\", \"wardNo\": 65}, {\"LoggedTime\": \"2020-03-02T06:24:04+0000\", \"vehicleNo\": \"UP65BT0438\", \"vehicleType\": \"Auto Tipper\", \"wardNo\": 0}, {\"LoggedTime\": \"2020-03-02T06:24:04+0000\", \"vehicleNo\": \"UP65BT3487\", \"vehicleType\": \"Refused Compactor\", \"wardNo\": 4}, {\"LoggedTime\": \"2020-03-02T06:24:04+0000\", \"vehicleNo\": \"UP65DT7330\", \"vehicleType\": \"Hopper\", \"wardNo\": 4}, {\"LoggedTime\": \"2020-03-02T06:24:04+0000\", \"vehicleNo\": \"CHASSIS-1659753\", \"vehicleType\": \"Hopper\", \"wardNo\": 2}, {\"LoggedTime\": \"2020-03-02T06:24:04+0000\", \"vehicleNo\": \"UP65BT0260\", \"vehicleType\": \"Refused Compactor\", \"wardNo\": 4}, {\"LoggedTime\": \"2020-03-02T06:24:04+0000\", \"vehicleNo\": \"UP65DT7326\", \"vehicleType\": \"Hopper\", \"wardNo\": 2}, {\"LoggedTime\": \"2020-03-02T06:24:04+0000\", \"vehicleNo\": \"UP65BT2660\", \"vehicleType\": \"Auto Tipper\", \"wardNo\": 4}, {\"LoggedTime\": \"2020-03-02T06:24:04+0000\", \"vehicleNo\": \"UP65DT7332\", \"vehicleType\": \"Hopper\", \"wardNo\": 4}, {\"LoggedTime\": \"2020-03-02T06:24:04+0000\", \"vehicleNo\": \"UP65BT3493\", \"vehicleType\": \"Refused Compactor\", \"wardNo\": 2}, {\"LoggedTime\": \"2020-03-02T06:24:03+0000\", \"vehicleNo\": \"UP65AG0323\", \"vehicleType\": \"Dumper\", \"wardNo\": 4}, {\"LoggedTime\": \"2020-03-02T06:24:03+0000\", \"vehicleNo\": \"UP65BT3652\", \"vehicleType\": \"Auto Tipper\", \"wardNo\": 2}, {\"LoggedTime\": \"2020-03-02T06:24:03+0000\", \"vehicleNo\": \"UP65ET4048\", \"vehicleType\": \"Auto Tipper\", \"wardNo\": 55}, {\"LoggedTime\": \"2020-03-02T06:24:03+0000\", \"vehicleNo\": \"UP65AG0612\", \"vehicleType\": \"Dumper\", \"wardNo\": 4}, {\"LoggedTime\": \"2020-03-02T06:24:03+0000\", \"vehicleNo\": \"UP65DT7333\", \"vehicleType\": \"Hopper\", \"wardNo\": 2}, {\"LoggedTime\": \"2020-03-02T06:24:03+0000\", \"vehicleNo\": \"UP65FT7971\", \"vehicleType\": \"Auto Tipper\", \"wardNo\": 14}, {\"LoggedTime\": \"2020-03-02T06:24:03+0000\", \"vehicleNo\": \"UP65HT4990\", \"vehicleType\": \"Pashu Bandi\", \"wardNo\": 0}, {\"LoggedTime\": \"2020-03-02T06:24:03+0000\", \"vehicleNo\": \"UP65ET4030\", \"vehicleType\": \"Auto Tipper\", \"wardNo\": 65}, {\"LoggedTime\": \"2020-03-02T06:24:03+0000\", \"vehicleNo\": \"UP65ET4035\", \"vehicleType\": \"Auto Tipper\", \"wardNo\": 65}, {\"LoggedTime\": \"2020-03-02T06:24:03+0000\", \"vehicleNo\": \"UP65FT7959\", \"vehicleType\": \"Auto Tipper\", \"wardNo\": 2}, {\"LoggedTime\": \"2020-03-02T06:24:03+0000\", \"vehicleNo\": \"UP65ET4014\", \"vehicleType\": \"Auto Tipper\", \"wardNo\": 65}, {\"LoggedTime\": \"2020-03-02T06:24:03+0000\", \"vehicleNo\": \"UP65DT3336\", \"vehicleType\": \"Dumper\", \"wardNo\": 59}, {\"LoggedTime\": \"2020-03-02T06:24:03+0000\", \"vehicleNo\": \"UP65DT3345\", \"vehicleType\": \"Dumper\", \"wardNo\": 13}, {\"LoggedTime\": \"2020-03-02T06:24:03+0000\", \"vehicleNo\": \"UP65DT6126\", \"vehicleType\": \"Dumper Placer\", \"wardNo\": 4}, {\"LoggedTime\": \"2020-03-02T06:24:03+0000\", \"vehicleNo\": \"UP65ET4057\", \"vehicleType\": \"Auto Tipper\", \"wardNo\": 77}, {\"LoggedTime\": \"2020-03-02T06:24:02+0000\", \"vehicleNo\": \"UP65ET4053\", \"vehicleType\": \"Auto Tipper\", \"wardNo\": 65}, {\"LoggedTime\": \"2020-03-02T06:24:02+0000\", \"vehicleNo\": \"UP65BT3671\", \"vehicleType\": \"Auto Tipper\", \"wardNo\": 2}, {\"LoggedTime\": \"2020-03-02T06:24:02+0000\", \"vehicleNo\": \"UP65AG0588\", \"vehicleType\": \"JCB\", \"wardNo\": 0}, {\"LoggedTime\": \"2020-03-02T06:24:02+0000\", \"vehicleNo\": \"UP65ET4056\", \"vehicleType\": \"Auto Tipper\", \"wardNo\": 65}, {\"LoggedTime\": \"2020-03-02T06:24:02+0000\", \"vehicleNo\": \"UP65ET4047\", \"vehicleType\": \"Auto Tipper\", \"wardNo\": 65}, {\"LoggedTime\": \"2020-03-02T06:24:02+0000\", \"vehicleNo\": \"UP65ET4031\", \"vehicleType\": \"Auto Tipper\", \"wardNo\": 65}, {\"LoggedTime\": \"2020-03-02T06:24:02+0000\", \"vehicleNo\": \"UP65ET4051\", \"vehicleType\": \"Auto Tipper\", \"wardNo\": 65}, {\"LoggedTime\": \"2020-03-02T06:24:02+0000\", \"vehicleNo\": \"UP65DT7337\", \"vehicleType\": \"Hopper\", \"wardNo\": 4}, {\"LoggedTime\": \"2020-03-02T06:24:02+0000\", \"vehicleNo\": \"UP65ET4036\", \"vehicleType\": \"Auto Tipper\", \"wardNo\": 65}, {\"LoggedTime\": \"2020-03-02T06:24:02+0000\", \"vehicleNo\": \"UP65FT7968\", \"vehicleType\": \"Auto Tipper\", \"wardNo\": 4}, {\"LoggedTime\": \"2020-03-02T06:24:02+0000\", \"vehicleNo\": \"UP65BT3644\", \"vehicleType\": \"Auto Tipper\", \"wardNo\": 4}, {\"LoggedTime\": \"2020-03-02T06:24:02+0000\", \"vehicleNo\": \"UP65BT3479\", \"vehicleType\": \"Refused Compactor\", \"wardNo\": 4}, {\"LoggedTime\": \"2020-03-02T06:24:02+0000\", \"vehicleNo\": \"UP65ET4061\", \"vehicleType\": \"Auto Tipper\", \"wardNo\": 63}, {\"LoggedTime\": \"2020-03-02T06:24:02+0000\", \"vehicleNo\": \"UP65ET4033\", \"vehicleType\": \"Auto Tipper\", \"wardNo\": 65}, {\"LoggedTime\": \"2020-03-02T06:24:02+0000\", \"vehicleNo\": \"UP65GT2961\", \"vehicleType\": \"Auto Tipper\", \"wardNo\": 4}, {\"LoggedTime\": \"2020-03-02T06:24:00+0000\", \"vehicleNo\": \"UP65FT7962\", \"vehicleType\": \"Refused Compactor\", \"wardNo\": 0}, {\"LoggedTime\": \"2020-03-02T06:24:01+0000\", \"vehicleNo\": \"UP65DT3343\", \"vehicleType\": \"Dumper\", \"wardNo\": 30}, {\"LoggedTime\": \"2020-03-02T06:24:01+0000\", \"vehicleNo\": \"UP65GT9523\", \"vehicleType\": \"Auto Tipper\", \"wardNo\": 4}, {\"LoggedTime\": \"2020-03-02T06:24:01+0000\", \"vehicleNo\": \"UP65GT2962\", \"vehicleType\": \"Auto Tipper\", \"wardNo\": 4}, {\"LoggedTime\": \"2020-03-02T06:24:01+0000\", \"vehicleNo\": \"UP65BT0257\", \"vehicleType\": \"Refused Compactor\", \"wardNo\": 4}, {\"LoggedTime\": \"2020-03-02T06:24:01+0000\", \"vehicleNo\": \"UP65AT9493\", \"vehicleType\": \"Auto Tipper\", \"wardNo\": 73}, {\"LoggedTime\": \"2020-03-02T06:24:01+0000\", \"vehicleNo\": \"UP65GT2957\", \"vehicleType\": \"Auto Tipper\", \"wardNo\": 10}, {\"LoggedTime\": \"2020-03-02T06:24:01+0000\", \"vehicleNo\": \"UP65BT3490\", \"vehicleType\": \"Refused Compactor\", \"wardNo\": 0}, {\"LoggedTime\": \"2020-03-02T06:24:01+0000\", \"vehicleNo\": \"UP65CT9234\", \"vehicleType\": \"Tractor\", \"wardNo\": 37}, {\"LoggedTime\": \"2020-03-02T06:24:01+0000\", \"vehicleNo\": \"UP65ET4039\", \"vehicleType\": \"Auto Tipper\", \"wardNo\": 28}, {\"LoggedTime\": \"2020-03-02T06:24:01+0000\", \"vehicleNo\": \"UP65BT3498\", \"vehicleType\": \"Refused Compactor\", \"wardNo\": 2}, {\"LoggedTime\": \"2020-03-02T06:24:01+0000\", \"vehicleNo\": \"UP65AT9504\", \"vehicleType\": \"Auto Tipper\", \"wardNo\": 2}, {\"LoggedTime\": \"2020-03-02T06:24:01+0000\", \"vehicleNo\": \"UP65BT3667\", \"vehicleType\": \"Auto Tipper\", \"wardNo\": 40}, {\"LoggedTime\": \"2020-03-02T06:24:01+0000\", \"vehicleNo\": \"UP65BT4080\", \"vehicleType\": \"Auto Tipper\", \"wardNo\": 2}, {\"LoggedTime\": \"2020-03-02T06:24:01+0000\", \"vehicleNo\": \"UP65DT3544\", \"vehicleType\": \"JCB\", \"wardNo\": 56}, {\"LoggedTime\": \"2020-03-02T06:24:00+0000\", \"vehicleNo\": \"UP65BT2132\", \"vehicleType\": \"Auto Tipper\", \"wardNo\": 4}, {\"LoggedTime\": \"2020-03-02T06:24:00+0000\", \"vehicleNo\": \"UP65GT3497\", \"vehicleType\": \"Refused Compactor\", \"wardNo\": 0}, {\"LoggedTime\": \"2020-03-02T06:24:00+0000\", \"vehicleNo\": \"UP65DT1076\", \"vehicleType\": \"Dumper Placer\", \"wardNo\": 4}, {\"LoggedTime\": \"2020-03-02T06:24:00+0000\", \"vehicleNo\": \"UP65AG1010\", \"vehicleType\": \"Refused Compactor\", \"wardNo\": 0}, {\"LoggedTime\": \"2020-03-02T06:24:00+0000\", \"vehicleNo\": \"UP65ET4034\", \"vehicleType\": \"Auto Tipper\", \"wardNo\": 4}, {\"LoggedTime\": \"2020-03-02T06:24:00+0000\", \"vehicleNo\": \"UP65AG1006\", \"vehicleType\": \"Sweeping Machine\", \"wardNo\": 4}, {\"LoggedTime\": \"2020-03-02T06:24:00+0000\", \"vehicleNo\": \"UP65BT3666\", \"vehicleType\": \"Auto Tipper\", \"wardNo\": 4}, {\"LoggedTime\": \"2020-03-02T06:24:00+0000\", \"vehicleNo\": \"UP65AT9511\", \"vehicleType\": \"Auto Tipper\", \"wardNo\": 4}, {\"LoggedTime\": \"2020-03-02T06:24:00+0000\", \"vehicleNo\": \"UP65GT9517\", \"vehicleType\": \"Auto Tipper\", \"wardNo\": 2}, {\"LoggedTime\": \"2020-03-02T06:24:00+0000\", \"vehicleNo\": \"UP65ET4045\", \"vehicleType\": \"Auto Tipper\", \"wardNo\": 65}, {\"LoggedTime\": \"2020-03-02T06:24:00+0000\", \"vehicleNo\": \"UP65GT5670\", \"vehicleType\": \"Hydraulic Lifter\", \"wardNo\": 4}, {\"LoggedTime\": \"2020-03-02T06:24:00+0000\", \"vehicleNo\": \"CHASSIS-1659771\", \"vehicleType\": \"Hopper\", \"wardNo\": 4}, {\"LoggedTime\": \"2020-03-02T06:24:00+0000\", \"vehicleNo\": \"UP65HT4989\", \"vehicleType\": \"Pashu Bandi\", \"wardNo\": 60}, {\"LoggedTime\": \"2020-03-02T06:24:00+0000\", \"vehicleNo\": \"UP65ET4044\", \"vehicleType\": \"Auto Tipper\", \"wardNo\": 65}, {\"LoggedTime\": \"2020-03-02T06:23:58+0000\", \"vehicleNo\": \"UP65AG0615\", \"vehicleType\": \"Dumper\", \"wardNo\": 4}, {\"LoggedTime\": \"2020-03-02T06:23:59+0000\", \"vehicleNo\": \"UP65CW6965\", \"vehicleType\": \"Tractor\", \"wardNo\": 4}, {\"LoggedTime\": \"2020-03-02T06:23:59+0000\", \"vehicleNo\": \"UP65GT2958\", \"vehicleType\": \"Auto Tipper\", \"wardNo\": 4}, {\"LoggedTime\": \"2020-03-02T06:23:59+0000\", \"vehicleNo\": \"UP65GT2960\", \"vehicleType\": \"Auto Tipper\", \"wardNo\": 4}, {\"LoggedTime\": \"2020-03-02T06:23:59+0000\", \"vehicleNo\": \"UP65DT3335\", \"vehicleType\": \"Dumper\", \"wardNo\": 4}, {\"LoggedTime\": \"2020-03-02T06:23:59+0000\", \"vehicleNo\": \"UP65DT3328\", \"vehicleType\": \"Dumper\", \"wardNo\": 4}, {\"LoggedTime\": \"2020-03-02T06:23:59+0000\", \"vehicleNo\": \"UP65FT7963\", \"vehicleType\": \"Auto Tipper\", \"wardNo\": 4}, {\"LoggedTime\": \"2020-03-02T06:23:59+0000\", \"vehicleNo\": \"UP65HT4992\", \"vehicleType\": \"Pashu Bandi\", \"wardNo\": 60}, {\"LoggedTime\": \"2020-03-02T06:23:59+0000\", \"vehicleNo\": \"CHASSIS-1659763\", \"vehicleType\": \"Hopper\", \"wardNo\": 4}, {\"LoggedTime\": \"2020-03-02T06:23:59+0000\", \"vehicleNo\": \"UP65AG0336\", \"vehicleType\": \"Tractor\", \"wardNo\": 4}, {\"LoggedTime\": \"2020-03-02T06:23:59+0000\", \"vehicleNo\": \"UP65AG1009\", \"vehicleType\": \"JCB\", \"wardNo\": 4}, {\"LoggedTime\": \"2020-03-02T06:23:59+0000\", \"vehicleNo\": \"UP65AG1002\", \"vehicleType\": \"JCB\", \"wardNo\": 65}, {\"LoggedTime\": \"2020-03-02T06:23:59+0000\", \"vehicleNo\": \"UP65GT2981\", \"vehicleType\": \"Auto Tipper\", \"wardNo\": 2}, {\"LoggedTime\": \"2020-03-02T06:23:59+0000\", \"vehicleNo\": \"UP65DT7334\", \"vehicleType\": \"Hopper\", \"wardNo\": 4}, {\"LoggedTime\": \"2020-03-02T06:23:59+0000\", \"vehicleNo\": \"UP65AT9805\", \"vehicleType\": \"Auto Tipper\", \"wardNo\": 4}, {\"LoggedTime\": \"2020-03-02T06:23:58+0000\", \"vehicleNo\": \"UP65AG0526\", \"vehicleType\": \"Sweeping Machine\", \"wardNo\": 4}, {\"LoggedTime\": \"2020-03-02T06:23:58+0000\", \"vehicleNo\": \"UP65GT2953\", \"vehicleType\": \"Auto Tipper\", \"wardNo\": 13}, {\"LoggedTime\": \"2020-03-02T06:23:58+0000\", \"vehicleNo\": \"UP65HT0321\", \"vehicleType\": \"Auto Tipper\", \"wardNo\": 4}, {\"LoggedTime\": \"2020-03-02T06:23:58+0000\", \"vehicleNo\": \"UP65DT3341\", \"vehicleType\": \"Dumper\", \"wardNo\": 4}, {\"LoggedTime\": \"2020-03-02T06:23:58+0000\", \"vehicleNo\": \"UP65DT5655\", \"vehicleType\": \"Tractor\", \"wardNo\": 4}, {\"LoggedTime\": \"2020-03-02T06:23:58+0000\", \"vehicleNo\": \"UP65FT7964\", \"vehicleType\": \"Auto Tipper\", \"wardNo\": 20}, {\"LoggedTime\": \"2020-03-02T06:23:58+0000\", \"vehicleNo\": \"UP65DT3342\", \"vehicleType\": \"Dumper\", \"wardNo\": 4}, {\"LoggedTime\": \"2020-03-02T06:23:58+0000\", \"vehicleNo\": \"UP65ET4043\", \"vehicleType\": \"Auto Tipper\", \"wardNo\": 2}, {\"LoggedTime\": \"2020-03-02T06:23:58+0000\", \"vehicleNo\": \"CHASSIS-1659754\", \"vehicleType\": \"Hopper\", \"wardNo\": 2}, {\"LoggedTime\": \"2020-03-02T06:23:58+0000\", \"vehicleNo\": \"UP65GT9530\", \"vehicleType\": \"Auto Tipper\", \"wardNo\": 4}, {\"LoggedTime\": \"2020-03-02T06:23:58+0000\", \"vehicleNo\": \"UP65CT9232\", \"vehicleType\": \"Tractor\", \"wardNo\": 4}, {\"LoggedTime\": \"2020-03-02T06:23:58+0000\", \"vehicleNo\": \"UP65GT9528\", \"vehicleType\": \"Auto Tipper\", \"wardNo\": 4}, {\"LoggedTime\": \"2020-03-02T06:23:58+0000\", \"vehicleNo\": \"UP65ET4049\", \"vehicleType\": \"Auto Tipper\", \"wardNo\": 4}, {\"LoggedTime\": \"2020-03-02T06:23:58+0000\", \"vehicleNo\": \"UP65GT2955\", \"vehicleType\": \"Auto Tipper\", \"wardNo\": 4}, {\"LoggedTime\": \"2020-03-02T06:23:56+0000\", \"vehicleNo\": \"UP65GT9529\", \"vehicleType\": \"Auto Tipper\", \"wardNo\": 4}, {\"LoggedTime\": \"2020-03-02T06:23:57+0000\", \"vehicleNo\": \"UP65GT9536\", \"vehicleType\": \"Auto Tipper\", \"wardNo\": 4}, {\"LoggedTime\": \"2020-03-02T06:23:57+0000\", \"vehicleNo\": \"UP65AG0337\", \"vehicleType\": \"Tractor\", \"wardNo\": 78}, {\"LoggedTime\": \"2020-03-02T06:23:57+0000\", \"vehicleNo\": \"UP65GT5669\", \"vehicleType\": \"Hydraulic Lifter\", \"wardNo\": 2}, {\"LoggedTime\": \"2020-03-02T06:23:57+0000\", \"vehicleNo\": \"UP65BT4081\", \"vehicleType\": \"Auto Tipper\", \"wardNo\": 4}, {\"LoggedTime\": \"2020-03-02T06:23:57+0000\", \"vehicleNo\": \"UP65DT1075\", \"vehicleType\": \"Dumper Placer\", \"wardNo\": 4}, {\"LoggedTime\": \"2020-03-02T06:23:57+0000\", \"vehicleNo\": \"UP65BT3676\", \"vehicleType\": \"Auto Tipper\", \"wardNo\": 30}, {\"LoggedTime\": \"2020-03-02T06:23:57+0000\", \"vehicleNo\": \"UP65GT2974\", \"vehicleType\": \"Auto Tipper\", \"wardNo\": 4}, {\"LoggedTime\": \"2020-03-02T06:23:57+0000\", \"vehicleNo\": \"UP65AG0335\", \"vehicleType\": \"Tractor\", \"wardNo\": 4}, {\"LoggedTime\": \"2020-03-02T06:23:57+0000\", \"vehicleNo\": \"UP65BT2304\", \"vehicleType\": \"Auto Tipper\", \"wardNo\": 4}, {\"LoggedTime\": \"2020-03-02T06:23:57+0000\", \"vehicleNo\": \"UP65DT3340\", \"vehicleType\": \"Dumper\", \"wardNo\": 4}, {\"LoggedTime\": \"2020-03-02T06:23:57+0000\", \"vehicleNo\": \"UP65DT3337\", \"vehicleType\": \"Dumper\", \"wardNo\": 4}, {\"LoggedTime\": \"2020-03-02T06:23:57+0000\", \"vehicleNo\": \"UP65GT9533\", \"vehicleType\": \"Auto Tipper\", \"wardNo\": 4}, {\"LoggedTime\": \"2020-03-02T06:23:57+0000\", \"vehicleNo\": \"UP65AG0587\", \"vehicleType\": \"JCB\", \"wardNo\": 0}, {\"LoggedTime\": \"2020-03-02T06:23:57+0000\", \"vehicleNo\": \"UP65FT7970\", \"vehicleType\": \"Auto Tipper\", \"wardNo\": 4}, {\"LoggedTime\": \"2020-03-02T06:23:56+0000\", \"vehicleNo\": \"UP65GT2963\", \"vehicleType\": \"Auto Tipper\", \"wardNo\": 4}, {\"LoggedTime\": \"2020-03-02T06:23:56+0000\", \"vehicleNo\": \"UP65GT5671\", \"vehicleType\": \"Hydraulic Lifter\", \"wardNo\": 4}, {\"LoggedTime\": \"2020-03-02T06:23:56+0000\", \"vehicleNo\": \"UP65GT9531\", \"vehicleType\": \"Auto Tipper\", \"wardNo\": 4}, {\"LoggedTime\": \"2020-03-02T06:23:56+0000\", \"vehicleNo\": \"CHASSIS-1659755\", \"vehicleType\": \"Hopper\", \"wardNo\": 4}, {\"LoggedTime\": \"2020-03-02T06:23:56+0000\", \"vehicleNo\": \"UP65DT5023\", \"vehicleType\": \"Tractor\", \"wardNo\": 4}, {\"LoggedTime\": \"2020-03-02T06:23:56+0000\", \"vehicleNo\": \"UP65GT9518\", \"vehicleType\": \"Auto Tipper\", \"wardNo\": 4}, {\"LoggedTime\": \"2020-03-02T06:23:56+0000\", \"vehicleNo\": \"UP65CT9235\", \"vehicleType\": \"Tractor\", \"wardNo\": 4}, {\"LoggedTime\": \"2020-03-02T06:23:56+0000\", \"vehicleNo\": \"UP65GT9526\", \"vehicleType\": \"Auto Tipper\", \"wardNo\": 4}, {\"LoggedTime\": \"2020-03-02T06:23:56+0000\", \"vehicleNo\": \"UP65GT2954\", \"vehicleType\": \"Auto Tipper\", \"wardNo\": 4}, {\"LoggedTime\": \"2020-03-02T06:23:56+0000\", \"vehicleNo\": \"UP65FT7957\", \"vehicleType\": \"Auto Tipper\", \"wardNo\": 13}, {\"LoggedTime\": \"2020-03-02T06:23:56+0000\", \"vehicleNo\": \"UP65AG0591\\t\", \"vehicleType\": \"Tractor\", \"wardNo\": 4}, {\"LoggedTime\": \"2020-03-02T06:23:56+0000\", \"vehicleNo\": \"UP65GT9519\", \"vehicleType\": \"Auto Tipper\", \"wardNo\": 4}, {\"LoggedTime\": \"2020-03-02T06:23:56+0000\", \"vehicleNo\": \"UP65GT9522\", \"vehicleType\": \"Auto Tipper\", \"wardNo\": 4}, {\"LoggedTime\": \"2020-03-02T06:23:56+0000\", \"vehicleNo\": \"UP65BT2680\", \"vehicleType\": \"Auto Tipper\", \"wardNo\": 4}, {\"LoggedTime\": \"2020-03-02T06:23:54+0000\", \"vehicleNo\": \"CHASSIS-1659749\", \"vehicleType\": \"Auto Tripper\", \"wardNo\": 4}, {\"LoggedTime\": \"2020-03-02T06:23:55+0000\", \"vehicleNo\": \"UP65BT2678\", \"vehicleType\": \"Auto Tipper\", \"wardNo\": 56}, {\"LoggedTime\": \"2020-03-02T06:23:55+0000\", \"vehicleNo\": \"UP65GT2984\", \"vehicleType\": \"Auto Tipper\", \"wardNo\": 4}, {\"LoggedTime\": \"2020-03-02T06:23:55+0000\", \"vehicleNo\": \"UP65AG0363\", \"vehicleType\": \"Dumper\", \"wardNo\": 2}, {\"LoggedTime\": \"2020-03-02T06:23:55+0000\", \"vehicleNo\": \"UP65HT0322\", \"vehicleType\": \"Auto Tipper\", \"wardNo\": 4}, {\"LoggedTime\": \"2020-03-02T06:23:55+0000\", \"vehicleNo\": \"UP65GT2975\", \"vehicleType\": \"Auto Tipper\", \"wardNo\": 26}, {\"LoggedTime\": \"2020-03-02T06:23:55+0000\", \"vehicleNo\": \"UP65CW6992\", \"vehicleType\": \"Tractor\", \"wardNo\": 4}, {\"LoggedTime\": \"2020-03-02T06:23:55+0000\", \"vehicleNo\": \"UP65AG0614\", \"vehicleType\": \"Dumper\", \"wardNo\": 0}, {\"LoggedTime\": \"2020-03-02T06:23:55+0000\", \"vehicleNo\": \"UP65DT7331\", \"vehicleType\": \"Hopper\", \"wardNo\": 2}, {\"LoggedTime\": \"2020-03-02T06:23:55+0000\", \"vehicleNo\": \"CHASSIS-1659750\", \"vehicleType\": \"Hopper\", \"wardNo\": 2}, {\"LoggedTime\": \"2020-03-02T06:23:55+0000\", \"vehicleNo\": \"UP65DT7328\", \"vehicleType\": \"Hopper\", \"wardNo\": 2}, {\"LoggedTime\": \"2020-03-02T06:23:55+0000\", \"vehicleNo\": \"UP65AG0452\", \"vehicleType\": \"Dumper Placer\", \"wardNo\": 2}, {\"LoggedTime\": \"2020-03-02T06:23:55+0000\", \"vehicleNo\": \"UP65GT2956\", \"vehicleType\": \"Auto Tipper\", \"wardNo\": 4}, {\"LoggedTime\": \"2020-03-02T06:23:55+0000\", \"vehicleNo\": \"UP65GT2959\", \"vehicleType\": \"Auto Tipper\", \"wardNo\": 2}, {\"LoggedTime\": \"2020-03-02T06:23:55+0000\", \"vehicleNo\": \"UP65DT3542\", \"vehicleType\": \"JCB\", \"wardNo\": 4}, {\"LoggedTime\": \"2020-03-02T06:23:55+0000\", \"vehicleNo\": \"UP65HT4991\", \"vehicleType\": \"Pashu Bandi\", \"wardNo\": 60}, {\"LoggedTime\": \"2020-03-02T06:23:54+0000\", \"vehicleNo\": \"UP65ET4054\", \"vehicleType\": \"Auto Tipper\", \"wardNo\": 84}, {\"LoggedTime\": \"2020-03-02T06:23:54+0000\", \"vehicleNo\": \"CHASIS NO 1659764\", \"vehicleType\": \"Hopper\", \"wardNo\": 4}, {\"LoggedTime\": \"2020-03-02T06:23:54+0000\", \"vehicleNo\": \"UP65GT9534\", \"vehicleType\": \"Auto Tipper\", \"wardNo\": 4}, {\"LoggedTime\": \"2020-03-02T06:23:54+0000\", \"vehicleNo\": \"UP65AG0613\", \"vehicleType\": \"Dumper\", \"wardNo\": 0}, {\"LoggedTime\": \"2020-03-02T06:23:54+0000\", \"vehicleNo\": \"UP65DT3327\", \"vehicleType\": \"Dumper\", \"wardNo\": 59}, {\"LoggedTime\": \"2020-03-02T06:23:54+0000\", \"vehicleNo\": \"UP65DT3331\", \"vehicleType\": \"Dumper\", \"wardNo\": 0}, {\"LoggedTime\": \"2020-03-02T06:23:54+0000\", \"vehicleNo\": \"UP65BT4083\", \"vehicleType\": \"Auto Tipper\", \"wardNo\": 4}, {\"LoggedTime\": \"2020-03-02T06:23:54+0000\", \"vehicleNo\": \"UP65GT2983\", \"vehicleType\": \"Auto Tipper\", \"wardNo\": 1}, {\"LoggedTime\": \"2020-03-02T06:23:54+0000\", \"vehicleNo\": \"UP65BT4074\", \"vehicleType\": \"Auto Tipper\", \"wardNo\": 4}, {\"LoggedTime\": \"2020-03-02T06:23:54+0000\", \"vehicleNo\": \"UP65DT3329\", \"vehicleType\": \"Dumper\", \"wardNo\": 0}, {\"LoggedTime\": \"2020-03-02T06:23:54+0000\", \"vehicleNo\": \"UP65CT9233\", \"vehicleType\": \"Tractor\", \"wardNo\": 4}, {\"LoggedTime\": \"2020-03-02T06:23:54+0000\", \"vehicleNo\": \"UP65DT3339\", \"vehicleType\": \"Dumper\", \"wardNo\": 4}, {\"LoggedTime\": \"2020-03-02T06:23:54+0000\", \"vehicleNo\": \"UP65HT4993\", \"vehicleType\": \"Pashu Bandi\", \"wardNo\": 4}, {\"LoggedTime\": \"2020-03-02T06:23:54+0000\", \"vehicleNo\": \"UP65DT3338\", \"vehicleType\": \"Dumper\", \"wardNo\": 4}, {\"LoggedTime\": \"2020-03-02T06:23:53+0000\", \"vehicleNo\": \"UP65FT7960\", \"vehicleType\": \"Refused Compactor\", \"wardNo\": 40}, {\"LoggedTime\": \"2020-03-02T06:23:53+0000\", \"vehicleNo\": \"UP65DT1073\", \"vehicleType\": \"Dumper Placer\", \"wardNo\": 4}, {\"LoggedTime\": \"2020-03-02T06:23:53+0000\", \"vehicleNo\": \"UP65BT3675\", \"vehicleType\": \"Auto Tipper\", \"wardNo\": 4}, {\"LoggedTime\": \"2020-03-02T06:23:53+0000\", \"vehicleNo\": \"UP65BT3495\", \"vehicleType\": \"Refused Compactor\", \"wardNo\": 4}, {\"LoggedTime\": \"2020-03-02T06:23:53+0000\", \"vehicleNo\": \"UP65HT3954\", \"vehicleType\": \"Refused Compactor\", \"wardNo\": 4}, {\"LoggedTime\": \"2020-03-02T06:23:53+0000\", \"vehicleNo\": \"UP65HT3951\", \"vehicleType\": \"Refused Compactor\", \"wardNo\": 4}, {\"LoggedTime\": \"2020-03-02T06:23:53+0000\", \"vehicleNo\": \"UP65GT9537\", \"vehicleType\": \"Auto Tipper\", \"wardNo\": 4}, {\"LoggedTime\": \"2020-03-02T06:23:53+0000\", \"vehicleNo\": \"UP65GT9535\", \"vehicleType\": \"Auto Tipper\", \"wardNo\": 4}, {\"LoggedTime\": \"2020-03-02T06:23:53+0000\", \"vehicleNo\": \"UP65DT6124\", \"vehicleType\": \"Dumper Placer\", \"wardNo\": 4}, {\"LoggedTime\": \"2020-03-02T06:23:53+0000\", \"vehicleNo\": \"UP65GT9521\", \"vehicleType\": \"Auto Tipper\", \"wardNo\": 4}, {\"LoggedTime\": \"2020-03-02T06:23:53+0000\", \"vehicleNo\": \"UP65BT4084\", \"vehicleType\": \"Auto Tipper\", \"wardNo\": 4}, {\"LoggedTime\": \"2020-03-02T06:23:53+0000\", \"vehicleNo\": \"UP65GT9538\", \"vehicleType\": \"Auto Tipper\", \"wardNo\": 4}, {\"LoggedTime\": \"2020-03-02T06:23:53+0000\", \"vehicleNo\": \"UP65DT5022\", \"vehicleType\": \"Auto Tipper\", \"wardNo\": 4}, {\"LoggedTime\": \"2020-03-02T06:23:53+0000\", \"vehicleNo\": \"UP65GT9532\", \"vehicleType\": \"Auto Tipper\", \"wardNo\": 4}, {\"LoggedTime\": \"2020-03-02T06:23:53+0000\", \"vehicleNo\": \"UP65GT9524\", \"vehicleType\": \"Auto Tipper\", \"wardNo\": 4}, {\"LoggedTime\": \"2020-03-02T06:23:52+0000\", \"vehicleNo\": \"UP65DT1074\", \"vehicleType\": \"Dumper Placer\", \"wardNo\": 4}, {\"LoggedTime\": \"2020-03-02T06:23:52+0000\", \"vehicleNo\": \"CHASSIS-1659761\", \"vehicleType\": \"Hopper\", \"wardNo\": 13}, {\"LoggedTime\": \"2020-03-02T06:23:52+0000\", \"vehicleNo\": \"UP65ET5660\", \"vehicleType\": \"Refused Compactor\", \"wardNo\": 4}, {\"LoggedTime\": \"2020-03-02T06:23:52+0000\", \"vehicleNo\": \"UP65HT3952\", \"vehicleType\": \"Refused Compactor\", \"wardNo\": 4}, {\"LoggedTime\": \"2020-03-02T06:23:52+0000\", \"vehicleNo\": \"UP65DT6125\", \"vehicleType\": \"Dumper Placer\", \"wardNo\": 4}, {\"LoggedTime\": \"2020-03-02T06:23:52+0000\", \"vehicleNo\": \"UP65GT9525\", \"vehicleType\": \"Auto Tipper\", \"wardNo\": 4}, {\"LoggedTime\": \"2020-03-02T06:23:51+0000\", \"vehicleNo\": \"UP65ET5620\", \"vehicleType\": \"Refused Compactor\", \"wardNo\": 4}, {\"LoggedTime\": \"2020-03-02T06:23:52+0000\", \"vehicleNo\": \"UP65AT9193\", \"vehicleType\": \"Refused Compactor\", \"wardNo\": 32}, {\"LoggedTime\": \"2020-03-02T06:23:52+0000\", \"vehicleNo\": \"UP65HT5229\", \"vehicleType\": \"Refused Compactor\", \"wardNo\": 4}, {\"LoggedTime\": \"2020-03-02T06:23:52+0000\", \"vehicleNo\": \"UP65AG1005\", \"vehicleType\": \"Refused Compactor\", \"wardNo\": 0}, {\"LoggedTime\": \"2020-03-02T06:23:52+0000\", \"vehicleNo\": \"UP65HT0324\", \"vehicleType\": \"Auto Tipper\", \"wardNo\": 4}, {\"LoggedTime\": \"2020-03-02T06:23:52+0000\", \"vehicleNo\": \"UP65GT9658\", \"vehicleType\": \"Refused Compactor\", \"wardNo\": 2}, {\"LoggedTime\": \"2020-03-02T06:23:52+0000\", \"vehicleNo\": \"UP65HT3953\", \"vehicleType\": \"Refused Compactor\", \"wardNo\": 4}, {\"LoggedTime\": \"2020-03-02T06:23:52+0000\", \"vehicleNo\": \"UP65BT3491\", \"vehicleType\": \"Refused Compactor\", \"wardNo\": 4}, {\"LoggedTime\": \"2020-03-02T06:23:52+0000\", \"vehicleNo\": \"UP65BT3489\", \"vehicleType\": \"Refused Compactor\", \"wardNo\": 4}, {\"LoggedTime\": \"2020-03-02T06:23:41+0000\", \"vehicleNo\": \"UP65HT5227\", \"vehicleType\": \"Refused Compactor\", \"wardNo\": 9}, {\"LoggedTime\": \"2020-03-02T06:23:51+0000\", \"vehicleNo\": \"UP65GT9520\", \"vehicleType\": \"Auto Tipper\", \"wardNo\": 4}, {\"LoggedTime\": \"2020-03-02T06:23:51+0000\", \"vehicleNo\": \"UP65HT3956\", \"vehicleType\": \"Refused Compactor\", \"wardNo\": 4}, {\"LoggedTime\": \"2020-03-02T06:23:51+0000\", \"vehicleNo\": \"UP65HT5228\", \"vehicleType\": \"Refused Compactor\", \"wardNo\": 4}, {\"LoggedTime\": \"2020-03-02T06:23:51+0000\", \"vehicleNo\": \"UP65HT3950\", \"vehicleType\": \"Refused Compactor\", \"wardNo\": 4}, {\"LoggedTime\": \"2020-03-02T06:23:51+0000\", \"vehicleNo\": \"UP65HT5230\", \"vehicleType\": \"Refused Compactor\", \"wardNo\": 4}, {\"LoggedTime\": \"2020-03-02T06:23:51+0000\", \"vehicleNo\": \"UP65AT9184\", \"vehicleType\": \"Refused Compactor\", \"wardNo\": 4}, {\"LoggedTime\": \"2020-03-02T06:23:51+0000\", \"vehicleNo\": \"UP65DT6128\", \"vehicleType\": \"Dumper Placer\", \"wardNo\": 4}, {\"LoggedTime\": \"2020-03-02T06:23:51+0000\", \"vehicleNo\": \"UP65HT0323\", \"vehicleType\": \"Auto Tipper\", \"wardNo\": 15}, {\"LoggedTime\": \"2020-03-02T06:23:51+0000\", \"vehicleNo\": \"UP65DT6127\", \"vehicleType\": \"Dumper Placer\", \"wardNo\": 41}]\n"
     ]
    }
   ],
   "source": [
    "print(json.dumps(field_data))"
   ]
  },
  {
   "cell_type": "code",
   "execution_count": 10,
   "metadata": {},
   "outputs": [
    {
     "data": {
      "text/html": [
       "<div>\n",
       "<style scoped>\n",
       "    .dataframe tbody tr th:only-of-type {\n",
       "        vertical-align: middle;\n",
       "    }\n",
       "\n",
       "    .dataframe tbody tr th {\n",
       "        vertical-align: top;\n",
       "    }\n",
       "\n",
       "    .dataframe thead th {\n",
       "        text-align: right;\n",
       "    }\n",
       "</style>\n",
       "<table border=\"1\" class=\"dataframe\">\n",
       "  <thead>\n",
       "    <tr style=\"text-align: right;\">\n",
       "      <th></th>\n",
       "      <th>speed</th>\n",
       "      <th>longitude</th>\n",
       "      <th>dateTime</th>\n",
       "      <th>__geoJsonLocation</th>\n",
       "      <th>latitude</th>\n",
       "      <th>vehicleNo</th>\n",
       "    </tr>\n",
       "  </thead>\n",
       "  <tbody>\n",
       "    <tr>\n",
       "      <th>0</th>\n",
       "      <td>0.0</td>\n",
       "      <td>82.99002</td>\n",
       "      <td>2020-03-04 23:59:55+05:30</td>\n",
       "      <td>{'type': 'Point', 'coordinates': [82.99002, 25...</td>\n",
       "      <td>25.32421</td>\n",
       "      <td>UP65DT1076</td>\n",
       "    </tr>\n",
       "    <tr>\n",
       "      <th>1</th>\n",
       "      <td>0.0</td>\n",
       "      <td>82.98538</td>\n",
       "      <td>2020-03-04 23:59:54+05:30</td>\n",
       "      <td>{'type': 'Point', 'coordinates': [82.98538, 25...</td>\n",
       "      <td>25.31324</td>\n",
       "      <td>UP65GT9524</td>\n",
       "    </tr>\n",
       "    <tr>\n",
       "      <th>2</th>\n",
       "      <td>24.0</td>\n",
       "      <td>82.96752</td>\n",
       "      <td>2020-03-04 23:59:53+05:30</td>\n",
       "      <td>{'type': 'Point', 'coordinates': [82.96752, 25...</td>\n",
       "      <td>25.27448</td>\n",
       "      <td>UP65HT3956</td>\n",
       "    </tr>\n",
       "    <tr>\n",
       "      <th>3</th>\n",
       "      <td>33.0</td>\n",
       "      <td>82.97379</td>\n",
       "      <td>2020-03-04 23:59:51+05:30</td>\n",
       "      <td>{'type': 'Point', 'coordinates': [82.97379, 25...</td>\n",
       "      <td>25.30792</td>\n",
       "      <td>UP65HT3952</td>\n",
       "    </tr>\n",
       "    <tr>\n",
       "      <th>4</th>\n",
       "      <td>0.0</td>\n",
       "      <td>82.98502</td>\n",
       "      <td>2020-03-04 23:59:51+05:30</td>\n",
       "      <td>{'type': 'Point', 'coordinates': [82.98502, 25...</td>\n",
       "      <td>25.31391</td>\n",
       "      <td>UP65AT9193</td>\n",
       "    </tr>\n",
       "  </tbody>\n",
       "</table>\n",
       "</div>"
      ],
      "text/plain": [
       "   speed  longitude                  dateTime  \\\n",
       "0    0.0   82.99002 2020-03-04 23:59:55+05:30   \n",
       "1    0.0   82.98538 2020-03-04 23:59:54+05:30   \n",
       "2   24.0   82.96752 2020-03-04 23:59:53+05:30   \n",
       "3   33.0   82.97379 2020-03-04 23:59:51+05:30   \n",
       "4    0.0   82.98502 2020-03-04 23:59:51+05:30   \n",
       "\n",
       "                                   __geoJsonLocation  latitude   vehicleNo  \n",
       "0  {'type': 'Point', 'coordinates': [82.99002, 25...  25.32421  UP65DT1076  \n",
       "1  {'type': 'Point', 'coordinates': [82.98538, 25...  25.31324  UP65GT9524  \n",
       "2  {'type': 'Point', 'coordinates': [82.96752, 25...  25.27448  UP65HT3956  \n",
       "3  {'type': 'Point', 'coordinates': [82.97379, 25...  25.30792  UP65HT3952  \n",
       "4  {'type': 'Point', 'coordinates': [82.98502, 25...  25.31391  UP65AT9193  "
      ]
     },
     "execution_count": 10,
     "metadata": {},
     "output_type": "execute_result"
    }
   ],
   "source": [
    "\"\"\" Get list of vehicles \"\"\"\n",
    "id = \"rbccps.org/aa9d66a000d94a78895de8d4c0b3a67f3450e531/rs.varanasi.iudx.org.in/varanasi-swm-vehicles/varanasi-swm-vehicles-live\"\n",
    "startTime = \"2020-03-04T00:00:00.000+05:30\"\n",
    "endTime = \"2020-03-05T00:00:00.000+05:30\"\n",
    "\n",
    "\"\"\" The field data obtained here is a dictionary \"\"\"\n",
    "field_data = rs.getDataDuring(id, startTime, endTime)\n",
    "df_field_data = pd.DataFrame(field_data)\n",
    "df_field_data[\"dateTime\"] = pd.to_datetime(df_field_data[\"dateTime\"]).dt.tz_convert(pytz.timezone(\"Asia/Kolkata\"))\n",
    "df_field_data.head(5)"
   ]
  },
  {
   "cell_type": "code",
   "execution_count": 11,
   "metadata": {},
   "outputs": [
    {
     "data": {
      "text/plain": [
       "dict_keys(['CHASIS NO 1659764', 'CHASSIS-1659749', 'CHASSIS-1659750', 'CHASSIS-1659754', 'CHASSIS-1659755', 'CHASSIS-1659761', 'CHASSIS-1659763', 'UP65AG0335', 'UP65AG0336', 'UP65AG0337', 'UP65AG0363', 'UP65AG0452', 'UP65AG0526', 'UP65AG0587', 'UP65AG0613', 'UP65AG0614', 'UP65AG0615', 'UP65AG1005', 'UP65AG1009', 'UP65AT9184', 'UP65AT9193', 'UP65BT2304', 'UP65BT2678', 'UP65BT2680', 'UP65BT3489', 'UP65BT3491', 'UP65BT3495', 'UP65BT3675', 'UP65BT3676', 'UP65BT4074', 'UP65BT4081', 'UP65BT4083', 'UP65BT4084', 'UP65CT9232', 'UP65CT9233', 'UP65CT9235', 'UP65CW6965', 'UP65CW6992', 'UP65DT1073', 'UP65DT1074', 'UP65DT1075', 'UP65DT1076', 'UP65DT3327', 'UP65DT3328', 'UP65DT3329', 'UP65DT3331', 'UP65DT3335', 'UP65DT3337', 'UP65DT3338', 'UP65DT3339', 'UP65DT3340', 'UP65DT3341', 'UP65DT3342', 'UP65DT3542', 'UP65DT5022', 'UP65DT5023', 'UP65DT5655', 'UP65DT6124', 'UP65DT6125', 'UP65DT6126', 'UP65DT6127', 'UP65DT6128', 'UP65DT7328', 'UP65DT7331', 'UP65ET4049', 'UP65ET4054', 'UP65ET5620', 'UP65FT7957', 'UP65FT7960', 'UP65FT7963', 'UP65FT7964', 'UP65FT7970', 'UP65GT2953', 'UP65GT2954', 'UP65GT2955', 'UP65GT2956', 'UP65GT2958', 'UP65GT2959', 'UP65GT2960', 'UP65GT2963', 'UP65GT2974', 'UP65GT2975', 'UP65GT2981', 'UP65GT2983', 'UP65GT2984', 'UP65GT5669', 'UP65GT5671', 'UP65GT9518', 'UP65GT9519', 'UP65GT9520', 'UP65GT9521', 'UP65GT9522', 'UP65GT9524', 'UP65GT9525', 'UP65GT9526', 'UP65GT9528', 'UP65GT9529', 'UP65GT9530', 'UP65GT9531', 'UP65GT9532', 'UP65GT9533', 'UP65GT9534', 'UP65GT9535', 'UP65GT9536', 'UP65GT9537', 'UP65GT9538', 'UP65GT9658', 'UP65HT0321', 'UP65HT0322', 'UP65HT0323', 'UP65HT0324', 'UP65HT3950', 'UP65HT3951', 'UP65HT3952', 'UP65HT3953', 'UP65HT3954', 'UP65HT3956', 'UP65HT4991', 'UP65HT4992', 'UP65HT4993', 'UP65HT5227', 'UP65HT5228', 'UP65HT5229', 'UP65HT5230'])"
      ]
     },
     "execution_count": 11,
     "metadata": {},
     "output_type": "execute_result"
    }
   ],
   "source": [
    "df_field_grouped = df_field_data.groupby([\"vehicleNo\"])\n",
    "\"\"\" All the vehicles \"\"\"\n",
    "df_field_grouped.groups.keys()"
   ]
  },
  {
   "cell_type": "code",
   "execution_count": null,
   "metadata": {},
   "outputs": [],
   "source": []
  },
  {
   "cell_type": "code",
   "execution_count": 21,
   "metadata": {},
   "outputs": [
    {
     "name": "stdout",
     "output_type": "stream",
     "text": [
      "speed\n"
     ]
    },
    {
     "ename": "TypeError",
     "evalue": "string indices must be integers",
     "output_type": "error",
     "traceback": [
      "\u001b[0;31m---------------------------------------------------------------------------\u001b[0m",
      "\u001b[0;31mTypeError\u001b[0m                                 Traceback (most recent call last)",
      "\u001b[0;32m<ipython-input-21-fe9cba1d165e>\u001b[0m in \u001b[0;36m<module>\u001b[0;34m\u001b[0m\n\u001b[1;32m      5\u001b[0m     \u001b[0;32mfor\u001b[0m \u001b[0mrow\u001b[0m \u001b[0;32min\u001b[0m \u001b[0mv\u001b[0m\u001b[0;34m:\u001b[0m\u001b[0;34m\u001b[0m\u001b[0;34m\u001b[0m\u001b[0m\n\u001b[1;32m      6\u001b[0m         \u001b[0mprint\u001b[0m\u001b[0;34m(\u001b[0m\u001b[0mrow\u001b[0m\u001b[0;34m)\u001b[0m\u001b[0;34m\u001b[0m\u001b[0;34m\u001b[0m\u001b[0m\n\u001b[0;32m----> 7\u001b[0;31m         \u001b[0mll\u001b[0m \u001b[0;34m=\u001b[0m \u001b[0;34m[\u001b[0m\u001b[0mrow\u001b[0m\u001b[0;34m[\u001b[0m\u001b[0;34m\"latitude\"\u001b[0m\u001b[0;34m]\u001b[0m\u001b[0;34m,\u001b[0m \u001b[0mrow\u001b[0m\u001b[0;34m[\u001b[0m\u001b[0;34m\"longitude\"\u001b[0m\u001b[0;34m]\u001b[0m\u001b[0;34m]\u001b[0m\u001b[0;34m\u001b[0m\u001b[0;34m\u001b[0m\u001b[0m\n\u001b[0m\u001b[1;32m      8\u001b[0m         \u001b[0mfolium\u001b[0m\u001b[0;34m.\u001b[0m\u001b[0mMarker\u001b[0m\u001b[0;34m(\u001b[0m\u001b[0mll\u001b[0m\u001b[0;34m,\u001b[0m \u001b[0mpopup\u001b[0m\u001b[0;34m=\u001b[0m\u001b[0mrow\u001b[0m\u001b[0;34m[\u001b[0m\u001b[0;34m\"dateTime\"\u001b[0m\u001b[0;34m]\u001b[0m \u001b[0;34m+\u001b[0m \u001b[0;34m\" \"\u001b[0m \u001b[0;34m+\u001b[0m \u001b[0mrow\u001b[0m\u001b[0;34m[\u001b[0m\u001b[0;34m\"vehicleNo\"\u001b[0m\u001b[0;34m]\u001b[0m\u001b[0;34m,\u001b[0m \u001b[0micon\u001b[0m\u001b[0;34m=\u001b[0m\u001b[0mfolium\u001b[0m\u001b[0;34m.\u001b[0m\u001b[0mIcon\u001b[0m\u001b[0;34m(\u001b[0m\u001b[0mcolor\u001b[0m\u001b[0;34m=\u001b[0m\u001b[0;34m'green'\u001b[0m\u001b[0;34m)\u001b[0m\u001b[0;34m)\u001b[0m\u001b[0;34m.\u001b[0m\u001b[0madd_to\u001b[0m\u001b[0;34m(\u001b[0m\u001b[0mm\u001b[0m\u001b[0;34m)\u001b[0m\u001b[0;34m\u001b[0m\u001b[0;34m\u001b[0m\u001b[0m\n\u001b[1;32m      9\u001b[0m         \u001b[0mdisplay\u001b[0m\u001b[0;34m(\u001b[0m\u001b[0mm\u001b[0m\u001b[0;34m)\u001b[0m\u001b[0;34m\u001b[0m\u001b[0;34m\u001b[0m\u001b[0m\n",
      "\u001b[0;31mTypeError\u001b[0m: string indices must be integers"
     ]
    }
   ],
   "source": [
    "m = folium.Map(location=[25.3176, 82.9739],zoom_start=13)\n",
    "\n",
    "for vehicle in df_field_grouped.groups.keys():    \n",
    "    v = df_field_grouped.get_group(vehicle)\n",
    "    for row in v:\n",
    "        print(row)\n",
    "        ll = [row[\"latitude\"], row[\"longitude\"]]\n",
    "        folium.Marker(ll, popup=row[\"dateTime\"] + \" \" + row[\"vehicleNo\"], icon=folium.Icon(color='green')).add_to(m)\n",
    "        display(m)"
   ]
  },
  {
   "cell_type": "code",
   "execution_count": null,
   "metadata": {},
   "outputs": [],
   "source": []
  }
 ],
 "metadata": {
  "kernelspec": {
   "display_name": "Python 3",
   "language": "python",
   "name": "python3"
  },
  "language_info": {
   "codemirror_mode": {
    "name": "ipython",
    "version": 3
   },
   "file_extension": ".py",
   "mimetype": "text/x-python",
   "name": "python",
   "nbconvert_exporter": "python",
   "pygments_lexer": "ipython3",
   "version": "3.8.1"
  }
 },
 "nbformat": 4,
 "nbformat_minor": 4
}
