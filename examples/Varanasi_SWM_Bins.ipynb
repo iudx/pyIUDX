{
 "cells": [
  {
   "cell_type": "code",
   "execution_count": 1,
   "metadata": {},
   "outputs": [],
   "source": [
    "import numpy as np\n",
    "import matplotlib.pyplot as plt\n",
    "import datetime\n",
    "import matplotlib.dates\n",
    "import folium\n",
    "from folium import plugins"
   ]
  },
  {
   "cell_type": "code",
   "execution_count": 2,
   "metadata": {},
   "outputs": [],
   "source": [
    "from pyIUDX.cat import cat\n",
    "# Specify the catalogue server details.\n",
    "# initialize a catalogue class\n",
    "cat = cat.Catalogue(\"https://varanasi.iudx.org.in/catalogue/v1\")"
   ]
  },
  {
   "cell_type": "code",
   "execution_count": 3,
   "metadata": {},
   "outputs": [
    {
     "name": "stdout",
     "output_type": "stream",
     "text": [
      "{'id': 'rbccps.org/aa9d66a000d94a78895de8d4c0b3a67f3450e531/rs.varanasi.iudx.org.in/varanasi-swm-bins/242'}\n",
      "Number of items =  219\n"
     ]
    }
   ],
   "source": [
    "geo1 = {\"circle\": {\"lat\": 25.3176, \"lon\": 82.9739, \"radius\": 30000}}\n",
    "attributes = {\"tags\": [\"dustbin\"]}\n",
    "filters = [\"id\"]\n",
    "\n",
    "all_bins_ItemsByID = cat.getManyResourceItems(attributes, filters, geo=geo1)\n",
    "print(all_bins_ItemsByID[0])\n",
    "print(\"Number of items = \", len(all_bins_ItemsByID))"
   ]
  },
  {
   "cell_type": "code",
   "execution_count": 4,
   "metadata": {},
   "outputs": [
    {
     "ename": "ConnectionError",
     "evalue": "None: Max retries exceeded with url: /catalogue/v1/items/rbccps.org/aa9d66a000d94a78895de8d4c0b3a67f3450e531/rs.varanasi.iudx.org.in/varanasi-swm-bins/1299 (Caused by None)",
     "output_type": "error",
     "traceback": [
      "\u001b[0;31m---------------------------------------------------------------------------\u001b[0m",
      "\u001b[0;31mRemoteTraceback\u001b[0m                           Traceback (most recent call last)",
      "\u001b[0;31mRemoteTraceback\u001b[0m: \n\"\"\"\nTraceback (most recent call last):\n  File \"/home/rraks/venvs/sci/lib/python3.8/site-packages/urllib3/connection.py\", line 156, in _new_conn\n    conn = connection.create_connection(\n  File \"/home/rraks/venvs/sci/lib/python3.8/site-packages/urllib3/util/connection.py\", line 84, in create_connection\n    raise err\n  File \"/home/rraks/venvs/sci/lib/python3.8/site-packages/urllib3/util/connection.py\", line 74, in create_connection\n    sock.connect(sa)\nTimeoutError: [Errno 110] Connection timed out\n\nDuring handling of the above exception, another exception occurred:\n\nTraceback (most recent call last):\n  File \"/home/rraks/venvs/sci/lib/python3.8/site-packages/urllib3/connectionpool.py\", line 665, in urlopen\n    httplib_response = self._make_request(\n  File \"/home/rraks/venvs/sci/lib/python3.8/site-packages/urllib3/connectionpool.py\", line 376, in _make_request\n    self._validate_conn(conn)\n  File \"/home/rraks/venvs/sci/lib/python3.8/site-packages/urllib3/connectionpool.py\", line 994, in _validate_conn\n    conn.connect()\n  File \"/home/rraks/venvs/sci/lib/python3.8/site-packages/urllib3/connection.py\", line 300, in connect\n    conn = self._new_conn()\n  File \"/home/rraks/venvs/sci/lib/python3.8/site-packages/urllib3/connection.py\", line 168, in _new_conn\n    raise NewConnectionError(\nurllib3.exceptions.NewConnectionError: <urllib3.connection.VerifiedHTTPSConnection object at 0x7f3181eaa9a0>: Failed to establish a new connection: [Errno 110] Connection timed out\n\nDuring handling of the above exception, another exception occurred:\n\nTraceback (most recent call last):\n  File \"/home/rraks/venvs/sci/lib/python3.8/site-packages/requests/adapters.py\", line 439, in send\n    resp = conn.urlopen(\n  File \"/home/rraks/venvs/sci/lib/python3.8/site-packages/urllib3/connectionpool.py\", line 719, in urlopen\n    retries = retries.increment(\n  File \"/home/rraks/venvs/sci/lib/python3.8/site-packages/urllib3/util/retry.py\", line 436, in increment\n    raise MaxRetryError(_pool, url, error or ResponseError(cause))\nurllib3.exceptions.MaxRetryError: HTTPSConnectionPool(host='varanasi.iudx.org.in', port=443): Max retries exceeded with url: /catalogue/v1/items/rbccps.org/aa9d66a000d94a78895de8d4c0b3a67f3450e531/rs.varanasi.iudx.org.in/varanasi-swm-bins/1299 (Caused by NewConnectionError('<urllib3.connection.VerifiedHTTPSConnection object at 0x7f3181eaa9a0>: Failed to establish a new connection: [Errno 110] Connection timed out'))\n\nDuring handling of the above exception, another exception occurred:\n\nTraceback (most recent call last):\n  File \"/usr/lib/python3.8/multiprocessing/pool.py\", line 125, in worker\n    result = (True, func(*args, **kwds))\n  File \"/usr/lib/python3.8/multiprocessing/pool.py\", line 51, in starmapstar\n    return list(itertools.starmap(args[0], args[1]))\n  File \"/home/rraks/venvs/sci/lib/python3.8/site-packages/pyIUDX/rs/item.py\", line 468, in initItem\n    objList.append(Item(catUrl, rsUrl, item, self.dm))\n  File \"/home/rraks/venvs/sci/lib/python3.8/site-packages/pyIUDX/rs/item.py\", line 239, in __init__\n    catItem = self.cat.getOneResourceItem(self.id)\n  File \"/home/rraks/venvs/sci/lib/python3.8/site-packages/pyIUDX/cat/cat.py\", line 137, in getOneResourceItem\n    item = requests.get(url)\n  File \"/home/rraks/venvs/sci/lib/python3.8/site-packages/requests/api.py\", line 76, in get\n    return request('get', url, params=params, **kwargs)\n  File \"/home/rraks/venvs/sci/lib/python3.8/site-packages/requests/api.py\", line 61, in request\n    return session.request(method=method, url=url, **kwargs)\n  File \"/home/rraks/venvs/sci/lib/python3.8/site-packages/requests/sessions.py\", line 530, in request\n    resp = self.send(prep, **send_kwargs)\n  File \"/home/rraks/venvs/sci/lib/python3.8/site-packages/requests/sessions.py\", line 643, in send\n    r = adapter.send(request, **kwargs)\n  File \"/home/rraks/venvs/sci/lib/python3.8/site-packages/requests/adapters.py\", line 516, in send\n    raise ConnectionError(e, request=request)\nrequests.exceptions.ConnectionError: HTTPSConnectionPool(host='varanasi.iudx.org.in', port=443): Max retries exceeded with url: /catalogue/v1/items/rbccps.org/aa9d66a000d94a78895de8d4c0b3a67f3450e531/rs.varanasi.iudx.org.in/varanasi-swm-bins/1299 (Caused by NewConnectionError('<urllib3.connection.VerifiedHTTPSConnection object at 0x7f3181eaa9a0>: Failed to establish a new connection: [Errno 110] Connection timed out'))\n\"\"\"",
      "\nThe above exception was the direct cause of the following exception:\n",
      "\u001b[0;31mConnectionError\u001b[0m                           Traceback (most recent call last)",
      "\u001b[0;32m<ipython-input-4-62476b34a782>\u001b[0m in \u001b[0;36m<module>\u001b[0;34m\u001b[0m\n\u001b[1;32m      3\u001b[0m \u001b[0mm\u001b[0m \u001b[0;34m=\u001b[0m \u001b[0mfolium\u001b[0m\u001b[0;34m.\u001b[0m\u001b[0mMap\u001b[0m\u001b[0;34m(\u001b[0m\u001b[0mlocation\u001b[0m\u001b[0;34m=\u001b[0m\u001b[0;34m[\u001b[0m\u001b[0;36m25.3176\u001b[0m\u001b[0;34m,\u001b[0m \u001b[0;36m82.9739\u001b[0m\u001b[0;34m]\u001b[0m\u001b[0;34m,\u001b[0m\u001b[0mzoom_start\u001b[0m\u001b[0;34m=\u001b[0m\u001b[0;36m12\u001b[0m\u001b[0;34m)\u001b[0m\u001b[0;34m\u001b[0m\u001b[0;34m\u001b[0m\u001b[0m\n\u001b[1;32m      4\u001b[0m \u001b[0mplugins\u001b[0m\u001b[0;34m.\u001b[0m\u001b[0mScrollZoomToggler\u001b[0m\u001b[0;34m(\u001b[0m\u001b[0;34m)\u001b[0m\u001b[0;34m.\u001b[0m\u001b[0madd_to\u001b[0m\u001b[0;34m(\u001b[0m\u001b[0mm\u001b[0m\u001b[0;34m)\u001b[0m\u001b[0;34m\u001b[0m\u001b[0;34m\u001b[0m\u001b[0m\n\u001b[0;32m----> 5\u001b[0;31m \u001b[0mbins\u001b[0m \u001b[0;34m=\u001b[0m \u001b[0mitem\u001b[0m\u001b[0;34m.\u001b[0m\u001b[0mItems\u001b[0m\u001b[0;34m(\u001b[0m\u001b[0;34m\"https://varanasi.iudx.org.in/catalogue/v1\"\u001b[0m\u001b[0;34m,\u001b[0m \u001b[0;34m\"https://rs.varanasi.iudx.org.in/resource-server/vscl/v1\"\u001b[0m\u001b[0;34m,\u001b[0m \u001b[0mall_bins_ItemsByID\u001b[0m\u001b[0;34m)\u001b[0m\u001b[0;34m\u001b[0m\u001b[0;34m\u001b[0m\u001b[0m\n\u001b[0m\u001b[1;32m      6\u001b[0m \u001b[0mprint\u001b[0m\u001b[0;34m(\u001b[0m\u001b[0mbins\u001b[0m\u001b[0;34m[\u001b[0m\u001b[0;36m0\u001b[0m\u001b[0;34m]\u001b[0m\u001b[0;34m.\u001b[0m\u001b[0mgeoProperties\u001b[0m\u001b[0;34m)\u001b[0m\u001b[0;34m\u001b[0m\u001b[0;34m\u001b[0m\u001b[0m\n\u001b[1;32m      7\u001b[0m \u001b[0;32mfor\u001b[0m \u001b[0msensor\u001b[0m \u001b[0;32min\u001b[0m \u001b[0mbins\u001b[0m\u001b[0;34m:\u001b[0m\u001b[0;34m\u001b[0m\u001b[0;34m\u001b[0m\u001b[0m\n",
      "\u001b[0;32m~/venvs/sci/lib/python3.8/site-packages/pyIUDX/rs/item.py\u001b[0m in \u001b[0;36m__init__\u001b[0;34m(self, catUrl, rsUrl, items)\u001b[0m\n\u001b[1;32m    458\u001b[0m         \u001b[0;34m\"\"\" Init items \"\"\"\u001b[0m\u001b[0;34m\u001b[0m\u001b[0;34m\u001b[0m\u001b[0m\n\u001b[1;32m    459\u001b[0m         \u001b[0;32mwith\u001b[0m \u001b[0mPool\u001b[0m\u001b[0;34m(\u001b[0m\u001b[0;36m4\u001b[0m\u001b[0;34m)\u001b[0m \u001b[0;32mas\u001b[0m \u001b[0mp\u001b[0m\u001b[0;34m:\u001b[0m\u001b[0;34m\u001b[0m\u001b[0;34m\u001b[0m\u001b[0m\n\u001b[0;32m--> 460\u001b[0;31m             \u001b[0mp\u001b[0m\u001b[0;34m.\u001b[0m\u001b[0mstarmap\u001b[0m\u001b[0;34m(\u001b[0m\u001b[0mself\u001b[0m\u001b[0;34m.\u001b[0m\u001b[0minitItem\u001b[0m\u001b[0;34m,\u001b[0m \u001b[0;34m[\u001b[0m\u001b[0;34m(\u001b[0m\u001b[0mself\u001b[0m\u001b[0;34m.\u001b[0m\u001b[0mcatUrl\u001b[0m\u001b[0;34m,\u001b[0m \u001b[0mself\u001b[0m\u001b[0;34m.\u001b[0m\u001b[0mrsUrl\u001b[0m\u001b[0;34m,\u001b[0m \u001b[0mitem\u001b[0m\u001b[0;34m[\u001b[0m\u001b[0;34m\"id\"\u001b[0m\u001b[0;34m]\u001b[0m\u001b[0;34m,\u001b[0m \u001b[0mself\u001b[0m\u001b[0;34m.\u001b[0m\u001b[0mlist\u001b[0m\u001b[0;34m)\u001b[0m \u001b[0;32mfor\u001b[0m \u001b[0mitem\u001b[0m \u001b[0;32min\u001b[0m \u001b[0mitems\u001b[0m\u001b[0;34m]\u001b[0m\u001b[0;34m)\u001b[0m\u001b[0;34m\u001b[0m\u001b[0;34m\u001b[0m\u001b[0m\n\u001b[0m\u001b[1;32m    461\u001b[0m             \u001b[0mp\u001b[0m\u001b[0;34m.\u001b[0m\u001b[0mclose\u001b[0m\u001b[0;34m(\u001b[0m\u001b[0;34m)\u001b[0m\u001b[0;34m\u001b[0m\u001b[0;34m\u001b[0m\u001b[0m\n\u001b[1;32m    462\u001b[0m             \u001b[0mp\u001b[0m\u001b[0;34m.\u001b[0m\u001b[0mjoin\u001b[0m\u001b[0;34m(\u001b[0m\u001b[0;34m)\u001b[0m\u001b[0;34m\u001b[0m\u001b[0;34m\u001b[0m\u001b[0m\n",
      "\u001b[0;32m/usr/lib/python3.8/multiprocessing/pool.py\u001b[0m in \u001b[0;36mstarmap\u001b[0;34m(self, func, iterable, chunksize)\u001b[0m\n\u001b[1;32m    370\u001b[0m         \u001b[0;31m`\u001b[0m\u001b[0mfunc\u001b[0m\u001b[0;31m`\u001b[0m \u001b[0;32mand\u001b[0m \u001b[0;34m(\u001b[0m\u001b[0ma\u001b[0m\u001b[0;34m,\u001b[0m \u001b[0mb\u001b[0m\u001b[0;34m)\u001b[0m \u001b[0mbecomes\u001b[0m \u001b[0mfunc\u001b[0m\u001b[0;34m(\u001b[0m\u001b[0ma\u001b[0m\u001b[0;34m,\u001b[0m \u001b[0mb\u001b[0m\u001b[0;34m)\u001b[0m\u001b[0;34m.\u001b[0m\u001b[0;34m\u001b[0m\u001b[0;34m\u001b[0m\u001b[0m\n\u001b[1;32m    371\u001b[0m         '''\n\u001b[0;32m--> 372\u001b[0;31m         \u001b[0;32mreturn\u001b[0m \u001b[0mself\u001b[0m\u001b[0;34m.\u001b[0m\u001b[0m_map_async\u001b[0m\u001b[0;34m(\u001b[0m\u001b[0mfunc\u001b[0m\u001b[0;34m,\u001b[0m \u001b[0miterable\u001b[0m\u001b[0;34m,\u001b[0m \u001b[0mstarmapstar\u001b[0m\u001b[0;34m,\u001b[0m \u001b[0mchunksize\u001b[0m\u001b[0;34m)\u001b[0m\u001b[0;34m.\u001b[0m\u001b[0mget\u001b[0m\u001b[0;34m(\u001b[0m\u001b[0;34m)\u001b[0m\u001b[0;34m\u001b[0m\u001b[0;34m\u001b[0m\u001b[0m\n\u001b[0m\u001b[1;32m    373\u001b[0m \u001b[0;34m\u001b[0m\u001b[0m\n\u001b[1;32m    374\u001b[0m     def starmap_async(self, func, iterable, chunksize=None, callback=None,\n",
      "\u001b[0;32m/usr/lib/python3.8/multiprocessing/pool.py\u001b[0m in \u001b[0;36mget\u001b[0;34m(self, timeout)\u001b[0m\n\u001b[1;32m    766\u001b[0m             \u001b[0;32mreturn\u001b[0m \u001b[0mself\u001b[0m\u001b[0;34m.\u001b[0m\u001b[0m_value\u001b[0m\u001b[0;34m\u001b[0m\u001b[0;34m\u001b[0m\u001b[0m\n\u001b[1;32m    767\u001b[0m         \u001b[0;32melse\u001b[0m\u001b[0;34m:\u001b[0m\u001b[0;34m\u001b[0m\u001b[0;34m\u001b[0m\u001b[0m\n\u001b[0;32m--> 768\u001b[0;31m             \u001b[0;32mraise\u001b[0m \u001b[0mself\u001b[0m\u001b[0;34m.\u001b[0m\u001b[0m_value\u001b[0m\u001b[0;34m\u001b[0m\u001b[0;34m\u001b[0m\u001b[0m\n\u001b[0m\u001b[1;32m    769\u001b[0m \u001b[0;34m\u001b[0m\u001b[0m\n\u001b[1;32m    770\u001b[0m     \u001b[0;32mdef\u001b[0m \u001b[0m_set\u001b[0m\u001b[0;34m(\u001b[0m\u001b[0mself\u001b[0m\u001b[0;34m,\u001b[0m \u001b[0mi\u001b[0m\u001b[0;34m,\u001b[0m \u001b[0mobj\u001b[0m\u001b[0;34m)\u001b[0m\u001b[0;34m:\u001b[0m\u001b[0;34m\u001b[0m\u001b[0;34m\u001b[0m\u001b[0m\n",
      "\u001b[0;31mConnectionError\u001b[0m: None: Max retries exceeded with url: /catalogue/v1/items/rbccps.org/aa9d66a000d94a78895de8d4c0b3a67f3450e531/rs.varanasi.iudx.org.in/varanasi-swm-bins/1299 (Caused by None)"
     ]
    }
   ],
   "source": [
    "# Import the item class from pyIUDX.rs\n",
    "from pyIUDX.rs import item\n",
    "m = folium.Map(location=[25.3176, 82.9739],zoom_start=12)\n",
    "plugins.ScrollZoomToggler().add_to(m)\n",
    "bins = item.Items(\"https://varanasi.iudx.org.in/catalogue/v1\", \"https://rs.varanasi.iudx.org.in/resource-server/vscl/v1\", all_bins_ItemsByID)\n",
    "print(bins[0].geoProperties)\n",
    "for sensor in bins:\n",
    "  sensor_id = sensor.id  \n",
    "#   print(\"Sensor location = \", sensor.location.coordinates)\n",
    "  folium.Marker([sensor.location.coordinates[1], sensor.location.coordinates[0] ], popup=sensor_id).add_to(m)    \n",
    "m"
   ]
  },
  {
   "cell_type": "code",
   "execution_count": null,
   "metadata": {},
   "outputs": [],
   "source": [
    "print(bins[0].quantitativeProperties)\n",
    "print(bins[0].updatedAtIdx)"
   ]
  },
  {
   "cell_type": "code",
   "execution_count": null,
   "metadata": {},
   "outputs": [],
   "source": [
    "bins.during(\"2020-02-27T00:00:00.000+05:30\", \"2020-03-05T00:00:00.000+05:30\")"
   ]
  },
  {
   "cell_type": "code",
   "execution_count": null,
   "metadata": {},
   "outputs": [],
   "source": []
  },
  {
   "cell_type": "code",
   "execution_count": null,
   "metadata": {},
   "outputs": [],
   "source": []
  },
  {
   "cell_type": "code",
   "execution_count": null,
   "metadata": {},
   "outputs": [],
   "source": [
    "import matplotlib.pyplot as plt\n",
    "\n",
    "len_arr = []\n",
    "\n",
    "for sensor in bins:\n",
    "    len_arr.append([len(sensor.FilledLevel.value[:,1]), sensor])\n",
    "    \n",
    "len_arr = np.array(len_arr)\n",
    "len_arr = len_arr[len_arr[:,0].argsort(kind='mergesort')]\n",
    "len_arr\n"
   ]
  },
  {
   "cell_type": "code",
   "execution_count": null,
   "metadata": {},
   "outputs": [],
   "source": [
    "import matplotlib.pyplot as plt\n",
    "\n",
    "fig, ax = plt.subplots(1,1, figsize=(15,10))\n",
    "fig.suptitle(bins[0].FilledLevel.name + \"\\n\" + bins[0].FilledLevel.describes, fontsize=20)\n",
    "plt.xlabel(bins[0].updatedAt, fontsize=18)\n",
    "plt.ylabel(bins[0].FilledLevel.name, fontsize=16)\n",
    "\n",
    "idx = -1\n",
    "sensors = len_arr[idx-1:idx][:,1]\n",
    "for sensor in sensors:\n",
    "    plt.plot(sensor.FilledLevel.value[:,sensor.updatedAtIdx], sensor.FilledLevel.value[:,-1], label=\"Logged Bin_\"+sensor.id.split(\"/\")[-1], marker='o')\n",
    "    plt.vlines(sensor.FilledLevel.value[:,0], 0, 100, label=\"Cleaned Time\")\n",
    "#     plt.plot(sensor.FilledLevel.value[:,0], sensor.FilledLevel.value[:,-1], label=\"Cleaned Bin_\"+sensor.id.split(\"/\")[-1])\n",
    "    \n",
    "plt.legend()\n",
    "plt.show()"
   ]
  },
  {
   "cell_type": "code",
   "execution_count": null,
   "metadata": {},
   "outputs": [],
   "source": [
    "import matplotlib.pyplot as plt\n",
    "\n",
    "pts_arr = []\n",
    "# print(\"Length \", len(bins))\n",
    "fig, ax = plt.subplots(1,1, figsize=(15,10))\n",
    "for sensor in bins:\n",
    "    pts_arr.append(len(sensor.FilledLevel.value[:,2]))\n",
    "\n",
    "pts_arr = np.array(pts_arr)\n",
    "# pts_arr = pts_arr[np.where(pts_arr == 0)]\n",
    "pts_arr = pts_arr[np.where(np.logical_and(pts_arr > 1, pts_arr < 100))]\n",
    "print(len(pts_arr))\n",
    "plt.xlabel(\"Data packets in one week\", fontsize=18)\n",
    "plt.ylabel(\"Number of bins\", fontsize=16)\n",
    "ax.hist(pts_arr)\n",
    "# plt.show()"
   ]
  },
  {
   "cell_type": "code",
   "execution_count": null,
   "metadata": {},
   "outputs": [],
   "source": [
    "pts_arr = []\n",
    "print(\"Length \", len(bins))\n",
    "\n",
    "fig, ax = plt.subplots(1,1, figsize=(15,10))\n",
    "plt.xlabel(\"Total garbage collected by bin in one week\", fontsize=18)\n",
    "plt.ylabel(\"Number of bins\", fontsize=16)\n",
    "\n",
    "for sensor in bins:\n",
    "    if(sensor.FilledLevel.value.size) >= 0 :\n",
    "        val = np.sum(sensor.FilledLevel.value[:,2])\n",
    "        pts_arr.append(val)\n",
    "    \n",
    "plt.hist(pts_arr)\n"
   ]
  },
  {
   "cell_type": "code",
   "execution_count": null,
   "metadata": {},
   "outputs": [],
   "source": [
    "diffarr = np.empty(shape=(1,0))\n",
    "fig, ax = plt.subplots(1,1, figsize=(15,10))\n",
    "plt.xlabel(\"Inter-Arrival Time in hours\", fontsize=18)\n",
    "plt.ylabel(\"Number of bins\", fontsize=16)\n",
    "for sensor in bins:\n",
    "    if(sensor.FilledLevel.value.size) > 0 :\n",
    "        diff = (sensor.FilledLevel.value[1:,1] - sensor.FilledLevel.value[0:-1,1])\n",
    "        diffarr = np.append(diffarr, diff)\n",
    "\n",
    "d_hist = [d.total_seconds()/(60*60) for d in diffarr]\n",
    "ax.hist(d_hist,bins=50)"
   ]
  },
  {
   "cell_type": "code",
   "execution_count": null,
   "metadata": {},
   "outputs": [],
   "source": [
    "\n"
   ]
  }
 ],
 "metadata": {
  "kernelspec": {
   "display_name": "Python 3",
   "language": "python",
   "name": "python3"
  },
  "language_info": {
   "codemirror_mode": {
    "name": "ipython",
    "version": 3
   },
   "file_extension": ".py",
   "mimetype": "text/x-python",
   "name": "python",
   "nbconvert_exporter": "python",
   "pygments_lexer": "ipython3",
   "version": "3.8.1"
  }
 },
 "nbformat": 4,
 "nbformat_minor": 4
}
